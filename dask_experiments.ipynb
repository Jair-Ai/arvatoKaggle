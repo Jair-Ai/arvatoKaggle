{
 "cells": [
  {
   "cell_type": "code",
   "execution_count": 1,
   "metadata": {
    "collapsed": true
   },
   "outputs": [],
   "source": [
    "import dask.dataframe as dd\n",
    "from models.constants import RANDOM_STATE\n",
    "azdias_clean_sample = dd.read_csv('data/cleaned_data/azdias_clean.csv')#.sample(frac=0.4, random_state=RANDOM_STATE)\n",
    "customers_clean_sample = dd.read_csv('data/cleaned_data/customers_clear.csv')#.sample(frac=0.4, random_state=RANDOM_STATE)"
   ]
  },
  {
   "cell_type": "code",
   "execution_count": 2,
   "outputs": [
    {
     "data": {
      "text/plain": "   Unnamed: 0  ALTERSKATEGORIE_GROB  ANREDE_KZ  ANZ_HAUSHALTE_AKTIV  \\\n0           0                     2          1                  NaN   \n1           1                     1          2                 11.0   \n2           2                     3          2                 10.0   \n3           3                     4          2                  1.0   \n4           4                     3          1                  3.0   \n\n   ANZ_HH_TITEL  ANZ_PERSONEN  ANZ_TITEL  ARBEIT  BALLRAUM  CAMEO_DEUG_2015  \\\n0           NaN           NaN        NaN     NaN       NaN              NaN   \n1           0.0           2.0        0.0     3.0       6.0              8.0   \n2           0.0           1.0        0.0     3.0       2.0              4.0   \n3           0.0           0.0        0.0     2.0       4.0              2.0   \n4           0.0           4.0        0.0     4.0       2.0              6.0   \n\n   ... WOHNDAUER_2008  WOHNLAGE  W_KEIT_KIND_HH  ZABEOTYP  WEALTH  LIFE_AGE  \\\n0  ...            NaN       NaN             NaN         3     NaN       NaN   \n1  ...            9.0       4.0             3.0         5     5.0       1.0   \n2  ...            9.0       2.0             3.0         5     2.0       4.0   \n3  ...            9.0       7.0             NaN         3     1.0       2.0   \n4  ...            9.0       3.0             2.0         4     4.0       3.0   \n\n   PLZ8_BAUMAX_FAMILY  PLZ8_BAUMAX_bussiness  PRAEGENDE_JUGENDJAHRE_GEN  \\\n0                 NaN                    NaN                        NaN   \n1                 1.0                    0.0                        5.0   \n2                 1.0                    0.0                        5.0   \n3                 1.0                    0.0                        3.0   \n4                 2.0                    0.0                        3.0   \n\n   PRAEGENDE_JUGENDJAHRE_MOV  \n0                          0  \n1                          1  \n2                          0  \n3                          1  \n4                          1  \n\n[5 rows x 248 columns]",
      "text/html": "<div>\n<style scoped>\n    .dataframe tbody tr th:only-of-type {\n        vertical-align: middle;\n    }\n\n    .dataframe tbody tr th {\n        vertical-align: top;\n    }\n\n    .dataframe thead th {\n        text-align: right;\n    }\n</style>\n<table border=\"1\" class=\"dataframe\">\n  <thead>\n    <tr style=\"text-align: right;\">\n      <th></th>\n      <th>Unnamed: 0</th>\n      <th>ALTERSKATEGORIE_GROB</th>\n      <th>ANREDE_KZ</th>\n      <th>ANZ_HAUSHALTE_AKTIV</th>\n      <th>ANZ_HH_TITEL</th>\n      <th>ANZ_PERSONEN</th>\n      <th>ANZ_TITEL</th>\n      <th>ARBEIT</th>\n      <th>BALLRAUM</th>\n      <th>CAMEO_DEUG_2015</th>\n      <th>...</th>\n      <th>WOHNDAUER_2008</th>\n      <th>WOHNLAGE</th>\n      <th>W_KEIT_KIND_HH</th>\n      <th>ZABEOTYP</th>\n      <th>WEALTH</th>\n      <th>LIFE_AGE</th>\n      <th>PLZ8_BAUMAX_FAMILY</th>\n      <th>PLZ8_BAUMAX_bussiness</th>\n      <th>PRAEGENDE_JUGENDJAHRE_GEN</th>\n      <th>PRAEGENDE_JUGENDJAHRE_MOV</th>\n    </tr>\n  </thead>\n  <tbody>\n    <tr>\n      <th>0</th>\n      <td>0</td>\n      <td>2</td>\n      <td>1</td>\n      <td>NaN</td>\n      <td>NaN</td>\n      <td>NaN</td>\n      <td>NaN</td>\n      <td>NaN</td>\n      <td>NaN</td>\n      <td>NaN</td>\n      <td>...</td>\n      <td>NaN</td>\n      <td>NaN</td>\n      <td>NaN</td>\n      <td>3</td>\n      <td>NaN</td>\n      <td>NaN</td>\n      <td>NaN</td>\n      <td>NaN</td>\n      <td>NaN</td>\n      <td>0</td>\n    </tr>\n    <tr>\n      <th>1</th>\n      <td>1</td>\n      <td>1</td>\n      <td>2</td>\n      <td>11.0</td>\n      <td>0.0</td>\n      <td>2.0</td>\n      <td>0.0</td>\n      <td>3.0</td>\n      <td>6.0</td>\n      <td>8.0</td>\n      <td>...</td>\n      <td>9.0</td>\n      <td>4.0</td>\n      <td>3.0</td>\n      <td>5</td>\n      <td>5.0</td>\n      <td>1.0</td>\n      <td>1.0</td>\n      <td>0.0</td>\n      <td>5.0</td>\n      <td>1</td>\n    </tr>\n    <tr>\n      <th>2</th>\n      <td>2</td>\n      <td>3</td>\n      <td>2</td>\n      <td>10.0</td>\n      <td>0.0</td>\n      <td>1.0</td>\n      <td>0.0</td>\n      <td>3.0</td>\n      <td>2.0</td>\n      <td>4.0</td>\n      <td>...</td>\n      <td>9.0</td>\n      <td>2.0</td>\n      <td>3.0</td>\n      <td>5</td>\n      <td>2.0</td>\n      <td>4.0</td>\n      <td>1.0</td>\n      <td>0.0</td>\n      <td>5.0</td>\n      <td>0</td>\n    </tr>\n    <tr>\n      <th>3</th>\n      <td>3</td>\n      <td>4</td>\n      <td>2</td>\n      <td>1.0</td>\n      <td>0.0</td>\n      <td>0.0</td>\n      <td>0.0</td>\n      <td>2.0</td>\n      <td>4.0</td>\n      <td>2.0</td>\n      <td>...</td>\n      <td>9.0</td>\n      <td>7.0</td>\n      <td>NaN</td>\n      <td>3</td>\n      <td>1.0</td>\n      <td>2.0</td>\n      <td>1.0</td>\n      <td>0.0</td>\n      <td>3.0</td>\n      <td>1</td>\n    </tr>\n    <tr>\n      <th>4</th>\n      <td>4</td>\n      <td>3</td>\n      <td>1</td>\n      <td>3.0</td>\n      <td>0.0</td>\n      <td>4.0</td>\n      <td>0.0</td>\n      <td>4.0</td>\n      <td>2.0</td>\n      <td>6.0</td>\n      <td>...</td>\n      <td>9.0</td>\n      <td>3.0</td>\n      <td>2.0</td>\n      <td>4</td>\n      <td>4.0</td>\n      <td>3.0</td>\n      <td>2.0</td>\n      <td>0.0</td>\n      <td>3.0</td>\n      <td>1</td>\n    </tr>\n  </tbody>\n</table>\n<p>5 rows × 248 columns</p>\n</div>"
     },
     "execution_count": 2,
     "metadata": {},
     "output_type": "execute_result"
    }
   ],
   "source": [
    "azdias_clean_sample.head()\n"
   ],
   "metadata": {
    "collapsed": false,
    "pycharm": {
     "name": "#%%\n"
    }
   }
  },
  {
   "cell_type": "code",
   "execution_count": null,
   "outputs": [],
   "source": [],
   "metadata": {
    "collapsed": false,
    "pycharm": {
     "name": "#%%\n"
    }
   }
  }
 ],
 "metadata": {
  "kernelspec": {
   "display_name": "Python 3",
   "language": "python",
   "name": "python3"
  },
  "language_info": {
   "codemirror_mode": {
    "name": "ipython",
    "version": 2
   },
   "file_extension": ".py",
   "mimetype": "text/x-python",
   "name": "python",
   "nbconvert_exporter": "python",
   "pygments_lexer": "ipython2",
   "version": "2.7.6"
  }
 },
 "nbformat": 4,
 "nbformat_minor": 0
}