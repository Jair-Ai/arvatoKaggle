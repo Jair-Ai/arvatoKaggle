{
 "cells": [
  {
   "cell_type": "code",
   "execution_count": 36,
   "metadata": {
    "collapsed": true
   },
   "outputs": [],
   "source": [
    "# import libraries here; add more as necessary\n",
    "import numpy as np\n",
    "import pandas as pd\n",
    "import matplotlib.pyplot as plt\n",
    "from matplotlib.ticker import PercentFormatter\n",
    "import seaborn as sns\n",
    "from scipy import stats\n",
    "# magic word for producing visualizations in notebook\n",
    "%matplotlib inline\n",
    "\n",
    "# show all observation-related columns/rows\n",
    "pd.set_option('display.max_columns', 200)\n",
    "pd.set_option('display.max_rows', 200)\n",
    "from where_is import WhereIs"
   ]
  },
  {
   "cell_type": "code",
   "execution_count": 37,
   "outputs": [],
   "source": [
    "where_is = WhereIs(False)"
   ],
   "metadata": {
    "collapsed": false,
    "pycharm": {
     "name": "#%%\n"
    }
   }
  },
  {
   "cell_type": "code",
   "execution_count": 38,
   "outputs": [],
   "source": [
    "all_paths = where_is.get_paths_list"
   ],
   "metadata": {
    "collapsed": false,
    "pycharm": {
     "name": "#%%\n"
    }
   }
  },
  {
   "cell_type": "code",
   "execution_count": 39,
   "outputs": [
    {
     "name": "stderr",
     "output_type": "stream",
     "text": [
      "/home/jair/.cache/pypoetry/virtualenvs/arvatocapstoneproject-L5ipTb8G-py3.7/lib/python3.7/site-packages/IPython/core/interactiveshell.py:3147: DtypeWarning: Columns (18,19) have mixed types.Specify dtype option on import or set low_memory=False.\n",
      "  interactivity=interactivity, compiler=compiler, result=result)\n"
     ]
    }
   ],
   "source": [
    "customers = pd.read_csv(all_paths[1], sep=';')"
   ],
   "metadata": {
    "collapsed": false,
    "pycharm": {
     "name": "#%%\n"
    }
   }
  },
  {
   "cell_type": "code",
   "execution_count": 40,
   "outputs": [],
   "source": [
    "df_info_columns = pd.read_excel(all_paths[5])"
   ],
   "metadata": {
    "collapsed": false,
    "pycharm": {
     "name": "#%%\n"
    }
   }
  },
  {
   "cell_type": "code",
   "execution_count": 41,
   "outputs": [],
   "source": [
    "#Set NaNs\n",
    "cod_nan = pd.read_csv(all_paths[2])"
   ],
   "metadata": {
    "collapsed": false,
    "pycharm": {
     "name": "#%%\n"
    }
   }
  },
  {
   "cell_type": "markdown",
   "source": [
    "## Working on AzDias"
   ],
   "metadata": {
    "collapsed": false,
    "pycharm": {
     "name": "#%% md\n"
    }
   }
  },
  {
   "cell_type": "code",
   "execution_count": 42,
   "outputs": [],
   "source": [
    "azdias = pd.read_csv(all_paths[0], sep=';')"
   ],
   "metadata": {
    "collapsed": false,
    "pycharm": {
     "name": "#%%\n"
    }
   }
  },
  {
   "cell_type": "code",
   "execution_count": 43,
   "outputs": [],
   "source": [
    "azdias_exp = azdias\n"
   ],
   "metadata": {
    "collapsed": false,
    "pycharm": {
     "name": "#%%\n"
    }
   }
  },
  {
   "cell_type": "code",
   "execution_count": 44,
   "outputs": [],
   "source": [
    "columns_to_drop = {'D19_LETZTER_KAUF_BRANCHE':'Other columns name, no descriptions', 'EINGEFUEGT_AM': 'No information about, data as input', 'LNR': 'Client Number'}"
   ],
   "metadata": {
    "collapsed": false,
    "pycharm": {
     "name": "#%%\n"
    }
   }
  },
  {
   "cell_type": "code",
   "execution_count": 45,
   "outputs": [],
   "source": [
    "#Drop bad columns\n",
    "azdias.drop(columns_to_drop.keys(), axis=1, inplace=True)\n",
    "customers.drop(columns_to_drop.keys(), axis=1, inplace=True)"
   ],
   "metadata": {
    "collapsed": false,
    "pycharm": {
     "name": "#%%\n"
    }
   }
  },
  {
   "cell_type": "code",
   "execution_count": 46,
   "outputs": [],
   "source": [
    "#Set Nans on invalid values\n",
    "cod_nan.drop(cod_nan.columns[0], axis=1, inplace=True)"
   ],
   "metadata": {
    "collapsed": false,
    "pycharm": {
     "name": "#%%\n"
    }
   }
  },
  {
   "cell_type": "code",
   "execution_count": 47,
   "outputs": [],
   "source": [
    "#Set attribute as NaN\n",
    "cod_nan.set_index('Attribute', inplace=True)"
   ],
   "metadata": {
    "collapsed": false,
    "pycharm": {
     "name": "#%%\n"
    }
   }
  },
  {
   "cell_type": "code",
   "execution_count": 48,
   "outputs": [
    {
     "name": "stdout",
     "output_type": "stream",
     "text": [
      "<class 'pandas.core.frame.DataFrame'>\n",
      "Index: 254 entries, AGER_TYP to ZABEOTYP\n",
      "Data columns (total 1 columns):\n",
      " #   Column  Non-Null Count  Dtype \n",
      "---  ------  --------------  ----- \n",
      " 0   Value   254 non-null    object\n",
      "dtypes: object(1)\n",
      "memory usage: 4.0+ KB\n"
     ]
    }
   ],
   "source": [
    "cod_nan.info()"
   ],
   "metadata": {
    "collapsed": false,
    "pycharm": {
     "name": "#%%\n"
    }
   }
  },
  {
   "cell_type": "code",
   "execution_count": 49,
   "outputs": [],
   "source": [
    "dict_to_nan = cod_nan.to_dict()['Value']"
   ],
   "metadata": {
    "collapsed": false,
    "pycharm": {
     "name": "#%%\n"
    }
   }
  },
  {
   "cell_type": "code",
   "execution_count": 50,
   "outputs": [
    {
     "name": "stdout",
     "output_type": "stream",
     "text": [
      "CPU times: user 171 µs, sys: 39 µs, total: 210 µs\n",
      "Wall time: 214 µs\n"
     ]
    }
   ],
   "source": [
    "%%time\n",
    "##Check for categorical values\n",
    "for key, value in dict_to_nan.items():\n",
    "    if len(value)> 2:\n",
    "        dict_to_nan[key] = [int(num) for num in value.split(',')]\n",
    "    else:\n",
    "        dict_to_nan[key] = int(value)"
   ],
   "metadata": {
    "collapsed": false,
    "pycharm": {
     "name": "#%%\n"
    }
   }
  },
  {
   "cell_type": "code",
   "execution_count": 51,
   "outputs": [],
   "source": [
    "dict_to_nan['CAMEO_DEUG_2015'] = [-1,'X']\n",
    "dict_to_nan['CAMEO_DEU_2015'] = [-1,'XX']\n",
    "dict_to_nan['CAMEO_INTL_2015'] = [-1,'XX']\n"
   ],
   "metadata": {
    "collapsed": false,
    "pycharm": {
     "name": "#%%\n"
    }
   }
  },
  {
   "cell_type": "code",
   "execution_count": 52,
   "outputs": [],
   "source": [
    "#Drop BIG FLAG column that doenst exist on any dataframe, but it is on column info dataframe\n",
    "bip_flag = dict_to_nan.pop('BIP_FLAG')"
   ],
   "metadata": {
    "collapsed": false,
    "pycharm": {
     "name": "#%%\n"
    }
   }
  },
  {
   "cell_type": "code",
   "execution_count": 53,
   "outputs": [],
   "source": [
    "#tHIS COLUMN not exist on azdias or even on customers so i droped, but the column information is equal to cameo_intl_2015\n",
    "cameo_intl = dict_to_nan.pop('CAMEO_DEUINTL_2015')"
   ],
   "metadata": {
    "collapsed": false,
    "pycharm": {
     "name": "#%%\n"
    }
   }
  },
  {
   "cell_type": "code",
   "execution_count": 54,
   "outputs": [
    {
     "name": "stdout",
     "output_type": "stream",
     "text": [
      "Porcentagem de nan pos replace 0.7601964047076988\n",
      "Porcentagem de nan pos replace 0.0\n",
      "Porcentagem de nan pos replace 0.0\n",
      "Porcentagem de nan pos replace 0.10518154307405234\n",
      "Porcentagem de nan pos replace 0.11147852216229195\n",
      "Porcentagem de nan pos replace 0.005446460529992\n",
      "Porcentagem de nan pos replace 0.9332522460758892\n",
      "Porcentagem de nan pos replace 0.8910247850981967\n",
      "Porcentagem de nan pos replace 0.7611254671961276\n",
      "Porcentagem de nan pos replace 0.9779112027207617\n",
      "Porcentagem de nan pos replace 0.815714620728192\n",
      "Porcentagem de nan pos replace 0.656175067688037\n",
      "Porcentagem de nan pos replace 0.5669783364619999\n",
      "Porcentagem de nan pos replace 0.39739862503239937\n",
      "Porcentagem de nan pos replace 0.626733436487695\n",
      "Porcentagem de nan pos replace 0.5060417113151507\n",
      "Porcentagem de nan pos replace 0.9627129522307037\n",
      "Porcentagem de nan pos replace 0.9270517638161578\n",
      "Porcentagem de nan pos replace 0.9190918975203681\n",
      "Porcentagem de nan pos replace 0.9907957734389113\n",
      "Porcentagem de nan pos replace 0.7158404032220964\n",
      "Porcentagem de nan pos replace 0.6326354518127378\n",
      "Porcentagem de nan pos replace 0.49133267730450697\n",
      "Porcentagem de nan pos replace 0.711645035294276\n",
      "Porcentagem de nan pos replace 0.5548163699015172\n",
      "Porcentagem de nan pos replace 0.9215323696367119\n",
      "Porcentagem de nan pos replace 0.8718791410884618\n",
      "Porcentagem de nan pos replace 0.10518154307405234\n",
      "Porcentagem de nan pos replace 0.0\n",
      "Porcentagem de nan pos replace 0.0\n",
      "Porcentagem de nan pos replace 0.0\n",
      "Porcentagem de nan pos replace 0.0\n",
      "Porcentagem de nan pos replace 0.0\n",
      "Porcentagem de nan pos replace 0.0\n",
      "Porcentagem de nan pos replace 0.0\n",
      "Porcentagem de nan pos replace 0.10451728583594866\n",
      "Porcentagem de nan pos replace 0.12476815514894735\n",
      "Porcentagem de nan pos replace 0.020587486156632306\n",
      "Porcentagem de nan pos replace 0.10518154307405234\n",
      "Porcentagem de nan pos replace 0.16618773570191905\n",
      "Porcentagem de nan pos replace 0.16618773570191905\n",
      "Porcentagem de nan pos replace 0.16618773570191905\n",
      "Porcentagem de nan pos replace 0.16618773570191905\n",
      "Porcentagem de nan pos replace 0.16516778666570917\n",
      "Porcentagem de nan pos replace 0.14959701353536328\n",
      "Porcentagem de nan pos replace 0.14959701353536328\n",
      "Porcentagem de nan pos replace 0.14959701353536328\n",
      "Porcentagem de nan pos replace 0.14959701353536328\n",
      "Porcentagem de nan pos replace 0.5346866826522265\n",
      "Porcentagem de nan pos replace 0.16618773570191905\n",
      "Porcentagem de nan pos replace 0.16618773570191905\n",
      "Porcentagem de nan pos replace 0.16618773570191905\n",
      "Porcentagem de nan pos replace 0.16618773570191905\n",
      "Porcentagem de nan pos replace 0.16618773570191905\n",
      "Porcentagem de nan pos replace 0.16618773570191905\n",
      "Porcentagem de nan pos replace 0.14959701353536328\n",
      "Porcentagem de nan pos replace 0.16618773570191905\n",
      "Porcentagem de nan pos replace 0.16618773570191905\n",
      "Porcentagem de nan pos replace 0.16618773570191905\n",
      "Porcentagem de nan pos replace 0.16618773570191905\n",
      "Porcentagem de nan pos replace 0.16618773570191905\n",
      "Porcentagem de nan pos replace 0.12346769207637612\n",
      "Porcentagem de nan pos replace 0.16618773570191905\n",
      "Porcentagem de nan pos replace 0.16618773570191905\n",
      "Porcentagem de nan pos replace 0.16618773570191905\n",
      "Porcentagem de nan pos replace 0.16618773570191905\n",
      "Porcentagem de nan pos replace 0.16618773570191905\n",
      "Porcentagem de nan pos replace 0.16618773570191905\n",
      "Porcentagem de nan pos replace 0.16618773570191905\n",
      "Porcentagem de nan pos replace 0.16618773570191905\n",
      "Porcentagem de nan pos replace 0.16618773570191905\n",
      "Porcentagem de nan pos replace 0.16618773570191905\n",
      "Porcentagem de nan pos replace 0.16618773570191905\n",
      "Porcentagem de nan pos replace 0.16618773570191905\n",
      "Porcentagem de nan pos replace 0.16618773570191905\n",
      "Porcentagem de nan pos replace 0.16618773570191905\n",
      "Porcentagem de nan pos replace 0.16618773570191905\n",
      "Porcentagem de nan pos replace 0.16618773570191905\n",
      "Porcentagem de nan pos replace 0.16618773570191905\n",
      "Porcentagem de nan pos replace 0.16618773570191905\n",
      "Porcentagem de nan pos replace 0.16618773570191905\n",
      "Porcentagem de nan pos replace 0.16618773570191905\n",
      "Porcentagem de nan pos replace 0.16618773570191905\n",
      "Porcentagem de nan pos replace 0.10451728583594866\n",
      "Porcentagem de nan pos replace 0.16618773570191905\n",
      "Porcentagem de nan pos replace 0.164421619328988\n",
      "Porcentagem de nan pos replace 0.16618773570191905\n",
      "Porcentagem de nan pos replace 0.16618773570191905\n",
      "Porcentagem de nan pos replace 0.16618773570191905\n",
      "Porcentagem de nan pos replace 0.16618773570191905\n",
      "Porcentagem de nan pos replace 0.16618773570191905\n",
      "Porcentagem de nan pos replace 0.16618773570191905\n",
      "Porcentagem de nan pos replace 0.16618773570191905\n",
      "Porcentagem de nan pos replace 0.16618773570191905\n",
      "Porcentagem de nan pos replace 0.16618773570191905\n",
      "Porcentagem de nan pos replace 0.16618773570191905\n",
      "Porcentagem de nan pos replace 0.16618773570191905\n",
      "Porcentagem de nan pos replace 0.16618773570191905\n",
      "Porcentagem de nan pos replace 0.16618773570191905\n",
      "Porcentagem de nan pos replace 0.16618773570191905\n",
      "Porcentagem de nan pos replace 0.16618773570191905\n",
      "Porcentagem de nan pos replace 0.16618773570191905\n",
      "Porcentagem de nan pos replace 0.16618773570191905\n",
      "Porcentagem de nan pos replace 0.11871354018812394\n",
      "Porcentagem de nan pos replace 0.11871354018812394\n",
      "Porcentagem de nan pos replace 0.11871354018812394\n",
      "Porcentagem de nan pos replace 0.11871354018812394\n",
      "Porcentagem de nan pos replace 0.11871354018812394\n",
      "Porcentagem de nan pos replace 0.11871354018812394\n",
      "Porcentagem de nan pos replace 0.11871354018812394\n",
      "Porcentagem de nan pos replace 0.11871354018812394\n",
      "Porcentagem de nan pos replace 0.11871354018812394\n",
      "Porcentagem de nan pos replace 0.11871354018812394\n",
      "Porcentagem de nan pos replace 0.11871354018812394\n",
      "Porcentagem de nan pos replace 0.11871354018812394\n",
      "Porcentagem de nan pos replace 0.11871354018812394\n",
      "Porcentagem de nan pos replace 0.11871354018812394\n",
      "Porcentagem de nan pos replace 0.11871354018812394\n",
      "Porcentagem de nan pos replace 0.11871354018812394\n",
      "Porcentagem de nan pos replace 0.11871354018812394\n",
      "Porcentagem de nan pos replace 0.11871354018812394\n",
      "Porcentagem de nan pos replace 0.11871354018812394\n",
      "Porcentagem de nan pos replace 0.11871354018812394\n",
      "Porcentagem de nan pos replace 0.11871354018812394\n",
      "Porcentagem de nan pos replace 0.11871354018812394\n",
      "Porcentagem de nan pos replace 0.11871354018812394\n",
      "Porcentagem de nan pos replace 0.11871354018812394\n",
      "Porcentagem de nan pos replace 0.11871354018812394\n",
      "Porcentagem de nan pos replace 0.11871354018812394\n",
      "Porcentagem de nan pos replace 0.11871354018812394\n",
      "Porcentagem de nan pos replace 0.11871354018812394\n",
      "Porcentagem de nan pos replace 0.11871354018812394\n",
      "Porcentagem de nan pos replace 0.11871354018812394\n",
      "Porcentagem de nan pos replace 0.11871354018812394\n",
      "Porcentagem de nan pos replace 0.11871354018812394\n",
      "Porcentagem de nan pos replace 0.11871354018812394\n",
      "Porcentagem de nan pos replace 0.11871354018812394\n",
      "Porcentagem de nan pos replace 0.11871354018812394\n",
      "Porcentagem de nan pos replace 0.11871354018812394\n",
      "Porcentagem de nan pos replace 0.11871354018812394\n",
      "Porcentagem de nan pos replace 0.11871354018812394\n",
      "Porcentagem de nan pos replace 0.11871354018812394\n",
      "Porcentagem de nan pos replace 0.11871354018812394\n",
      "Porcentagem de nan pos replace 0.11871354018812394\n",
      "Porcentagem de nan pos replace 0.11871354018812394\n",
      "Porcentagem de nan pos replace 0.11871354018812394\n",
      "Porcentagem de nan pos replace 0.11871354018812394\n",
      "Porcentagem de nan pos replace 0.11871354018812394\n",
      "Porcentagem de nan pos replace 0.11871354018812394\n",
      "Porcentagem de nan pos replace 0.11871354018812394\n",
      "Porcentagem de nan pos replace 0.11871354018812394\n",
      "Porcentagem de nan pos replace 0.11871354018812394\n",
      "Porcentagem de nan pos replace 0.11871354018812394\n",
      "Porcentagem de nan pos replace 0.11871354018812394\n",
      "Porcentagem de nan pos replace 0.11871354018812394\n",
      "Porcentagem de nan pos replace 0.11871354018812394\n",
      "Porcentagem de nan pos replace 0.11871354018812394\n",
      "Porcentagem de nan pos replace 0.11871354018812394\n",
      "Porcentagem de nan pos replace 0.11871354018812394\n",
      "Porcentagem de nan pos replace 0.11871354018812394\n",
      "Porcentagem de nan pos replace 0.11871354018812394\n",
      "Porcentagem de nan pos replace 0.11871354018812394\n",
      "Porcentagem de nan pos replace 0.11871354018812394\n",
      "Porcentagem de nan pos replace 0.11871354018812394\n",
      "Porcentagem de nan pos replace 0.11871354018812394\n",
      "Porcentagem de nan pos replace 0.11871354018812394\n",
      "Porcentagem de nan pos replace 0.11871354018812394\n",
      "Porcentagem de nan pos replace 0.11871354018812394\n",
      "Porcentagem de nan pos replace 0.11871354018812394\n",
      "Porcentagem de nan pos replace 0.11871354018812394\n",
      "Porcentagem de nan pos replace 0.11871354018812394\n",
      "Porcentagem de nan pos replace 0.11871354018812394\n",
      "Porcentagem de nan pos replace 0.11871354018812394\n",
      "Porcentagem de nan pos replace 0.11871354018812394\n",
      "Porcentagem de nan pos replace 0.11871354018812394\n",
      "Porcentagem de nan pos replace 0.11871354018812394\n",
      "Porcentagem de nan pos replace 0.11871354018812394\n",
      "Porcentagem de nan pos replace 0.11871354018812394\n",
      "Porcentagem de nan pos replace 0.11871354018812394\n",
      "Porcentagem de nan pos replace 0.11871354018812394\n",
      "Porcentagem de nan pos replace 0.11871354018812394\n",
      "Porcentagem de nan pos replace 0.11871354018812394\n",
      "Porcentagem de nan pos replace 0.11871354018812394\n",
      "Porcentagem de nan pos replace 0.11871354018812394\n",
      "Porcentagem de nan pos replace 0.11871354018812394\n",
      "Porcentagem de nan pos replace 0.11871354018812394\n",
      "Porcentagem de nan pos replace 0.11871354018812394\n",
      "Porcentagem de nan pos replace 0.11871354018812394\n",
      "Porcentagem de nan pos replace 0.11871354018812394\n",
      "Porcentagem de nan pos replace 0.11871354018812394\n",
      "Porcentagem de nan pos replace 0.11871354018812394\n",
      "Porcentagem de nan pos replace 0.11871354018812394\n",
      "Porcentagem de nan pos replace 0.11871354018812394\n",
      "Porcentagem de nan pos replace 0.11871354018812394\n",
      "Porcentagem de nan pos replace 0.11871354018812394\n",
      "Porcentagem de nan pos replace 0.11871354018812394\n",
      "Porcentagem de nan pos replace 0.11871354018812394\n",
      "Porcentagem de nan pos replace 0.11871354018812394\n",
      "Porcentagem de nan pos replace 0.11871354018812394\n",
      "Porcentagem de nan pos replace 0.11871354018812394\n",
      "Porcentagem de nan pos replace 0.11871354018812394\n",
      "Porcentagem de nan pos replace 0.11871354018812394\n",
      "Porcentagem de nan pos replace 0.11871354018812394\n",
      "Porcentagem de nan pos replace 0.11871354018812394\n",
      "Porcentagem de nan pos replace 0.11871354018812394\n",
      "Porcentagem de nan pos replace 0.11871354018812394\n",
      "Porcentagem de nan pos replace 0.11871354018812394\n",
      "Porcentagem de nan pos replace 0.11871354018812394\n",
      "Porcentagem de nan pos replace 0.11871354018812394\n",
      "Porcentagem de nan pos replace 0.17735668257368262\n",
      "Porcentagem de nan pos replace 0.12153551139391913\n",
      "Porcentagem de nan pos replace 0.10908181023562057\n",
      "Porcentagem de nan pos replace 0.10451728583594866\n",
      "Porcentagem de nan pos replace 0.13073637178657146\n",
      "Porcentagem de nan pos replace 0.13073637178657146\n",
      "Porcentagem de nan pos replace 0.13073637178657146\n",
      "Porcentagem de nan pos replace 0.13073637178657146\n",
      "Porcentagem de nan pos replace 0.13073637178657146\n",
      "Porcentagem de nan pos replace 0.13073637178657146\n",
      "Porcentagem de nan pos replace 0.12136608091595687\n",
      "Porcentagem de nan pos replace 0.17735668257368262\n",
      "Porcentagem de nan pos replace 0.005446460529992\n",
      "Porcentagem de nan pos replace 0.0\n",
      "Porcentagem de nan pos replace 0.0\n",
      "Porcentagem de nan pos replace 0.0\n",
      "Porcentagem de nan pos replace 0.0\n",
      "Porcentagem de nan pos replace 0.0\n",
      "Porcentagem de nan pos replace 0.0\n",
      "Porcentagem de nan pos replace 0.0\n",
      "Porcentagem de nan pos replace 0.0\n",
      "Porcentagem de nan pos replace 0.0\n",
      "Porcentagem de nan pos replace 0.0\n",
      "Porcentagem de nan pos replace 0.0\n",
      "Porcentagem de nan pos replace 0.0\n",
      "Porcentagem de nan pos replace 0.0\n",
      "Porcentagem de nan pos replace 0.0\n",
      "Porcentagem de nan pos replace 0.12476815514894735\n",
      "Porcentagem de nan pos replace 0.9975763587258379\n",
      "Porcentagem de nan pos replace 0.12476815514894735\n",
      "Porcentagem de nan pos replace 0.08247000463409188\n",
      "Porcentagem de nan pos replace 0.10451728583594866\n",
      "Porcentagem de nan pos replace 0.16605084485217472\n",
      "Porcentagem de nan pos replace 0.0\n",
      "Porcentagem de nan pos replace 0.11147852216229195\n",
      "Porcentagem de nan pos replace 0.11147852216229195\n"
     ]
    }
   ],
   "source": [
    "azdias_cols = azdias.columns\n",
    "customers_cols = customers.columns\n",
    "columns_not_in = {'azdias':[], 'customers':[]}\n",
    "for key, value, in dict_to_nan.items():\n",
    "    if key in azdias_cols:\n",
    "        azdias[key] = azdias[key].replace(value, np.nan)\n",
    "        print(f'Porcentagem de nan pos replace {azdias[key].isnull().mean()}')\n",
    "    else:\n",
    "        columns_not_in['azdias'].append(key)\n",
    "    if key in customers_cols:\n",
    "        customers[key] = customers[key].replace(value, np.nan)\n",
    "    else:\n",
    "        columns_not_in['customers'].append(key)"
   ],
   "metadata": {
    "collapsed": false,
    "pycharm": {
     "name": "#%%\n"
    }
   }
  },
  {
   "cell_type": "code",
   "execution_count": 62,
   "outputs": [
    {
     "data": {
      "text/plain": "array([nan, 51.0, 24.0, 12.0, 43.0, 54.0, 22.0, 14.0, 13.0, 15.0, 33.0,\n       41.0, 34.0, 55.0, 25.0, 23.0, 31.0, 52.0, 35.0, 45.0, 44.0, 32.0,\n       '22', '24', '41', '12', '54', '51', '44', '35', '23', '25', '14',\n       '34', '52', '55', '31', '32', '15', '13', '43', '33', '45'],\n      dtype=object)"
     },
     "execution_count": 62,
     "metadata": {},
     "output_type": "execute_result"
    }
   ],
   "source": [
    "azdias['CAMEO_INTL_2015'].unique()"
   ],
   "metadata": {
    "collapsed": false,
    "pycharm": {
     "name": "#%%\n"
    }
   }
  },
  {
   "cell_type": "code",
   "execution_count": 63,
   "outputs": [
    {
     "data": {
      "text/plain": "0.11147852216229195"
     },
     "execution_count": 63,
     "metadata": {},
     "output_type": "execute_result"
    }
   ],
   "source": [
    "azdias['CAMEO_INTL_2015'].isnull().mean()"
   ],
   "metadata": {
    "collapsed": false,
    "pycharm": {
     "name": "#%%\n"
    }
   }
  },
  {
   "cell_type": "code",
   "execution_count": 64,
   "outputs": [
    {
     "data": {
      "text/plain": "NaN     99352\n51      77576\n51.0    56118\n41      53459\n24      52882\n41.0    38877\n24.0    38276\n14      36524\n43      32730\n14.0    26360\n54      26207\n43.0    23942\n25      22837\n54.0    19184\n22      19173\n25.0    16791\n23      15653\n13      15272\n45      15206\n22.0    13982\n55      13842\n52      11836\n23.0    11097\n13.0    11064\n31      11041\n45.0    10926\n34      10737\n55.0    10113\n15       9832\n52.0     8706\n44       8543\n31.0     7983\n34.0     7787\n12       7645\n15.0     7142\n44.0     6277\n35       6090\n32       6067\n33       5833\n12.0     5604\n32.0     4287\n35.0     4266\n33.0     4102\nName: CAMEO_INTL_2015, dtype: int64"
     },
     "execution_count": 64,
     "metadata": {},
     "output_type": "execute_result"
    }
   ],
   "source": [
    "azdias['CAMEO_INTL_2015'].value_counts(dropna=False)\n"
   ],
   "metadata": {
    "collapsed": false,
    "pycharm": {
     "name": "#%%\n"
    }
   }
  },
  {
   "cell_type": "code",
   "execution_count": 65,
   "outputs": [],
   "source": [
    "#number of missing values by each column in azdias dataset\n",
    "col_nul_percent=azdias.isnull().sum()/azdias.shape[0]\n"
   ],
   "metadata": {
    "collapsed": false,
    "pycharm": {
     "name": "#%%\n"
    }
   }
  },
  {
   "cell_type": "code",
   "execution_count": 66,
   "outputs": [
    {
     "data": {
      "text/plain": "<Figure size 1440x576 with 1 Axes>",
      "image/png": "[encoded data removed]"
     },
     "metadata": {
      "needs_background": "light"
     },
     "output_type": "display_data"
    }
   ],
   "source": [
    "plt.title(\"Distribution of missing values in azdias dataset\",fontsize=13,fontweight=\"bold\")\n",
    "plt.xlabel(\"colums names\",fontsize=13)\n",
    "plt.ylabel(\"Precent of missing values\",fontsize=13)\n",
    "(col_nul_percent.sort_values(ascending=False)[:50].plot(kind='bar', figsize=(20,8), fontsize=13));\n"
   ],
   "metadata": {
    "collapsed": false,
    "pycharm": {
     "name": "#%%\n"
    }
   }
  },
  {
   "cell_type": "code",
   "execution_count": 67,
   "outputs": [
    {
     "data": {
      "text/plain": "Text(0, 0.5, 'count')"
     },
     "execution_count": 67,
     "metadata": {},
     "output_type": "execute_result"
    },
    {
     "data": {
      "text/plain": "<Figure size 432x288 with 1 Axes>",
      "image/png": "[encoded data removed]"
     },
     "metadata": {
      "needs_background": "light"
     },
     "output_type": "display_data"
    }
   ],
   "source": [
    "\n",
    "plt.hist(col_nul_percent)\n",
    "plt.title(\"Number of missing values by column\",fontsize=10,fontweight=\"bold\")\n",
    "plt.xlabel(\"number of missing\",fontsize=10)\n",
    "plt.ylabel(\"count\",fontsize=10)"
   ],
   "metadata": {
    "collapsed": false,
    "pycharm": {
     "name": "#%%\n"
    }
   }
  },
  {
   "cell_type": "code",
   "execution_count": 68,
   "outputs": [
    {
     "ename": "KeyError",
     "evalue": "\"['PRODUCT_GROUP' 'CUSTOMER_GROUP' 'ONLINE_PURCHASE'] not found in axis\"",
     "output_type": "error",
     "traceback": [
      "\u001B[0;31m---------------------------------------------------------------------------\u001B[0m",
      "\u001B[0;31mKeyError\u001B[0m                                  Traceback (most recent call last)",
      "\u001B[0;32m<ipython-input-68-f07b761ddbdd>\u001B[0m in \u001B[0;36m<module>\u001B[0;34m\u001B[0m\n\u001B[1;32m      1\u001B[0m \u001B[0;31m### Drop Columns from costumers, that columns are specific\u001B[0m\u001B[0;34m\u001B[0m\u001B[0;34m\u001B[0m\u001B[0;34m\u001B[0m\u001B[0m\n\u001B[0;32m----> 2\u001B[0;31m \u001B[0mcustomers\u001B[0m\u001B[0;34m.\u001B[0m\u001B[0mdrop\u001B[0m\u001B[0;34m(\u001B[0m\u001B[0;34m[\u001B[0m\u001B[0;34m'PRODUCT_GROUP'\u001B[0m\u001B[0;34m,\u001B[0m\u001B[0;34m'CUSTOMER_GROUP'\u001B[0m\u001B[0;34m,\u001B[0m\u001B[0;34m'ONLINE_PURCHASE'\u001B[0m\u001B[0;34m]\u001B[0m\u001B[0;34m,\u001B[0m \u001B[0maxis\u001B[0m\u001B[0;34m=\u001B[0m\u001B[0;36m1\u001B[0m\u001B[0;34m,\u001B[0m\u001B[0minplace\u001B[0m\u001B[0;34m=\u001B[0m\u001B[0;32mTrue\u001B[0m\u001B[0;34m)\u001B[0m\u001B[0;34m\u001B[0m\u001B[0;34m\u001B[0m\u001B[0m\n\u001B[0m\u001B[1;32m      3\u001B[0m \u001B[0;34m\u001B[0m\u001B[0m\n",
      "\u001B[0;32m~/.cache/pypoetry/virtualenvs/arvatocapstoneproject-L5ipTb8G-py3.7/lib/python3.7/site-packages/pandas/core/frame.py\u001B[0m in \u001B[0;36mdrop\u001B[0;34m(self, labels, axis, index, columns, level, inplace, errors)\u001B[0m\n\u001B[1;32m   4310\u001B[0m             \u001B[0mlevel\u001B[0m\u001B[0;34m=\u001B[0m\u001B[0mlevel\u001B[0m\u001B[0;34m,\u001B[0m\u001B[0;34m\u001B[0m\u001B[0;34m\u001B[0m\u001B[0m\n\u001B[1;32m   4311\u001B[0m             \u001B[0minplace\u001B[0m\u001B[0;34m=\u001B[0m\u001B[0minplace\u001B[0m\u001B[0;34m,\u001B[0m\u001B[0;34m\u001B[0m\u001B[0;34m\u001B[0m\u001B[0m\n\u001B[0;32m-> 4312\u001B[0;31m             \u001B[0merrors\u001B[0m\u001B[0;34m=\u001B[0m\u001B[0merrors\u001B[0m\u001B[0;34m,\u001B[0m\u001B[0;34m\u001B[0m\u001B[0;34m\u001B[0m\u001B[0m\n\u001B[0m\u001B[1;32m   4313\u001B[0m         )\n\u001B[1;32m   4314\u001B[0m \u001B[0;34m\u001B[0m\u001B[0m\n",
      "\u001B[0;32m~/.cache/pypoetry/virtualenvs/arvatocapstoneproject-L5ipTb8G-py3.7/lib/python3.7/site-packages/pandas/core/generic.py\u001B[0m in \u001B[0;36mdrop\u001B[0;34m(self, labels, axis, index, columns, level, inplace, errors)\u001B[0m\n\u001B[1;32m   4150\u001B[0m         \u001B[0;32mfor\u001B[0m \u001B[0maxis\u001B[0m\u001B[0;34m,\u001B[0m \u001B[0mlabels\u001B[0m \u001B[0;32min\u001B[0m \u001B[0maxes\u001B[0m\u001B[0;34m.\u001B[0m\u001B[0mitems\u001B[0m\u001B[0;34m(\u001B[0m\u001B[0;34m)\u001B[0m\u001B[0;34m:\u001B[0m\u001B[0;34m\u001B[0m\u001B[0;34m\u001B[0m\u001B[0m\n\u001B[1;32m   4151\u001B[0m             \u001B[0;32mif\u001B[0m \u001B[0mlabels\u001B[0m \u001B[0;32mis\u001B[0m \u001B[0;32mnot\u001B[0m \u001B[0;32mNone\u001B[0m\u001B[0;34m:\u001B[0m\u001B[0;34m\u001B[0m\u001B[0;34m\u001B[0m\u001B[0m\n\u001B[0;32m-> 4152\u001B[0;31m                 \u001B[0mobj\u001B[0m \u001B[0;34m=\u001B[0m \u001B[0mobj\u001B[0m\u001B[0;34m.\u001B[0m\u001B[0m_drop_axis\u001B[0m\u001B[0;34m(\u001B[0m\u001B[0mlabels\u001B[0m\u001B[0;34m,\u001B[0m \u001B[0maxis\u001B[0m\u001B[0;34m,\u001B[0m \u001B[0mlevel\u001B[0m\u001B[0;34m=\u001B[0m\u001B[0mlevel\u001B[0m\u001B[0;34m,\u001B[0m \u001B[0merrors\u001B[0m\u001B[0;34m=\u001B[0m\u001B[0merrors\u001B[0m\u001B[0;34m)\u001B[0m\u001B[0;34m\u001B[0m\u001B[0;34m\u001B[0m\u001B[0m\n\u001B[0m\u001B[1;32m   4153\u001B[0m \u001B[0;34m\u001B[0m\u001B[0m\n\u001B[1;32m   4154\u001B[0m         \u001B[0;32mif\u001B[0m \u001B[0minplace\u001B[0m\u001B[0;34m:\u001B[0m\u001B[0;34m\u001B[0m\u001B[0;34m\u001B[0m\u001B[0m\n",
      "\u001B[0;32m~/.cache/pypoetry/virtualenvs/arvatocapstoneproject-L5ipTb8G-py3.7/lib/python3.7/site-packages/pandas/core/generic.py\u001B[0m in \u001B[0;36m_drop_axis\u001B[0;34m(self, labels, axis, level, errors)\u001B[0m\n\u001B[1;32m   4185\u001B[0m                 \u001B[0mnew_axis\u001B[0m \u001B[0;34m=\u001B[0m \u001B[0maxis\u001B[0m\u001B[0;34m.\u001B[0m\u001B[0mdrop\u001B[0m\u001B[0;34m(\u001B[0m\u001B[0mlabels\u001B[0m\u001B[0;34m,\u001B[0m \u001B[0mlevel\u001B[0m\u001B[0;34m=\u001B[0m\u001B[0mlevel\u001B[0m\u001B[0;34m,\u001B[0m \u001B[0merrors\u001B[0m\u001B[0;34m=\u001B[0m\u001B[0merrors\u001B[0m\u001B[0;34m)\u001B[0m\u001B[0;34m\u001B[0m\u001B[0;34m\u001B[0m\u001B[0m\n\u001B[1;32m   4186\u001B[0m             \u001B[0;32melse\u001B[0m\u001B[0;34m:\u001B[0m\u001B[0;34m\u001B[0m\u001B[0;34m\u001B[0m\u001B[0m\n\u001B[0;32m-> 4187\u001B[0;31m                 \u001B[0mnew_axis\u001B[0m \u001B[0;34m=\u001B[0m \u001B[0maxis\u001B[0m\u001B[0;34m.\u001B[0m\u001B[0mdrop\u001B[0m\u001B[0;34m(\u001B[0m\u001B[0mlabels\u001B[0m\u001B[0;34m,\u001B[0m \u001B[0merrors\u001B[0m\u001B[0;34m=\u001B[0m\u001B[0merrors\u001B[0m\u001B[0;34m)\u001B[0m\u001B[0;34m\u001B[0m\u001B[0;34m\u001B[0m\u001B[0m\n\u001B[0m\u001B[1;32m   4188\u001B[0m             \u001B[0mresult\u001B[0m \u001B[0;34m=\u001B[0m \u001B[0mself\u001B[0m\u001B[0;34m.\u001B[0m\u001B[0mreindex\u001B[0m\u001B[0;34m(\u001B[0m\u001B[0;34m**\u001B[0m\u001B[0;34m{\u001B[0m\u001B[0maxis_name\u001B[0m\u001B[0;34m:\u001B[0m \u001B[0mnew_axis\u001B[0m\u001B[0;34m}\u001B[0m\u001B[0;34m)\u001B[0m\u001B[0;34m\u001B[0m\u001B[0;34m\u001B[0m\u001B[0m\n\u001B[1;32m   4189\u001B[0m \u001B[0;34m\u001B[0m\u001B[0m\n",
      "\u001B[0;32m~/.cache/pypoetry/virtualenvs/arvatocapstoneproject-L5ipTb8G-py3.7/lib/python3.7/site-packages/pandas/core/indexes/base.py\u001B[0m in \u001B[0;36mdrop\u001B[0;34m(self, labels, errors)\u001B[0m\n\u001B[1;32m   5589\u001B[0m         \u001B[0;32mif\u001B[0m \u001B[0mmask\u001B[0m\u001B[0;34m.\u001B[0m\u001B[0many\u001B[0m\u001B[0;34m(\u001B[0m\u001B[0;34m)\u001B[0m\u001B[0;34m:\u001B[0m\u001B[0;34m\u001B[0m\u001B[0;34m\u001B[0m\u001B[0m\n\u001B[1;32m   5590\u001B[0m             \u001B[0;32mif\u001B[0m \u001B[0merrors\u001B[0m \u001B[0;34m!=\u001B[0m \u001B[0;34m\"ignore\"\u001B[0m\u001B[0;34m:\u001B[0m\u001B[0;34m\u001B[0m\u001B[0;34m\u001B[0m\u001B[0m\n\u001B[0;32m-> 5591\u001B[0;31m                 \u001B[0;32mraise\u001B[0m \u001B[0mKeyError\u001B[0m\u001B[0;34m(\u001B[0m\u001B[0;34mf\"{labels[mask]} not found in axis\"\u001B[0m\u001B[0;34m)\u001B[0m\u001B[0;34m\u001B[0m\u001B[0;34m\u001B[0m\u001B[0m\n\u001B[0m\u001B[1;32m   5592\u001B[0m             \u001B[0mindexer\u001B[0m \u001B[0;34m=\u001B[0m \u001B[0mindexer\u001B[0m\u001B[0;34m[\u001B[0m\u001B[0;34m~\u001B[0m\u001B[0mmask\u001B[0m\u001B[0;34m]\u001B[0m\u001B[0;34m\u001B[0m\u001B[0;34m\u001B[0m\u001B[0m\n\u001B[1;32m   5593\u001B[0m         \u001B[0;32mreturn\u001B[0m \u001B[0mself\u001B[0m\u001B[0;34m.\u001B[0m\u001B[0mdelete\u001B[0m\u001B[0;34m(\u001B[0m\u001B[0mindexer\u001B[0m\u001B[0;34m)\u001B[0m\u001B[0;34m\u001B[0m\u001B[0;34m\u001B[0m\u001B[0m\n",
      "\u001B[0;31mKeyError\u001B[0m: \"['PRODUCT_GROUP' 'CUSTOMER_GROUP' 'ONLINE_PURCHASE'] not found in axis\""
     ]
    }
   ],
   "source": [
    "### Drop Columns from costumers, that columns are specific\n",
    "customers.drop(['PRODUCT_GROUP','CUSTOMER_GROUP','ONLINE_PURCHASE'], axis=1,inplace=True)"
   ],
   "metadata": {
    "collapsed": false,
    "pycharm": {
     "name": "#%%\n"
    }
   }
  },
  {
   "cell_type": "code",
   "execution_count": 69,
   "outputs": [],
   "source": [
    "#Distribution of missing values by rows:-\n",
    "row_nul_percent=azdias.isnull().sum(axis=1)"
   ],
   "metadata": {
    "collapsed": false,
    "pycharm": {
     "name": "#%%\n"
    }
   }
  },
  {
   "cell_type": "code",
   "execution_count": 70,
   "outputs": [
    {
     "data": {
      "text/plain": "Text(0, 0.5, 'count')"
     },
     "execution_count": 70,
     "metadata": {},
     "output_type": "execute_result"
    },
    {
     "data": {
      "text/plain": "<Figure size 432x288 with 1 Axes>",
      "image/png": "[encoded data removed]"
     },
     "metadata": {
      "needs_background": "light"
     },
     "output_type": "display_data"
    }
   ],
   "source": [
    "plt.hist(row_nul_percent)\n",
    "plt.title(\"Number of missing values by row\",fontsize=10,fontweight=\"bold\")\n",
    "plt.xlabel(\"number of missing\",fontsize=10)\n",
    "plt.ylabel(\"count\",fontsize=10)\n"
   ],
   "metadata": {
    "collapsed": false,
    "pycharm": {
     "name": "#%%\n"
    }
   }
  },
  {
   "cell_type": "code",
   "execution_count": 71,
   "outputs": [
    {
     "name": "stdout",
     "output_type": "stream",
     "text": [
      "columns to drop:  Index(['AGER_TYP', 'ALTER_KIND1', 'ALTER_KIND2', 'ALTER_KIND3', 'ALTER_KIND4',\n",
      "       'ALTERSKATEGORIE_FEIN', 'D19_BANKEN_ANZ_12', 'D19_BANKEN_ANZ_24',\n",
      "       'D19_BANKEN_DATUM', 'D19_BANKEN_OFFLINE_DATUM',\n",
      "       'D19_BANKEN_ONLINE_DATUM', 'D19_BANKEN_ONLINE_QUOTE_12',\n",
      "       'D19_GESAMT_ANZ_12', 'D19_GESAMT_ANZ_24', 'D19_GESAMT_DATUM',\n",
      "       'D19_GESAMT_OFFLINE_DATUM', 'D19_GESAMT_ONLINE_DATUM',\n",
      "       'D19_GESAMT_ONLINE_QUOTE_12', 'D19_KONSUMTYP', 'D19_LOTTO',\n",
      "       'D19_SOZIALES', 'D19_TELKO_ANZ_12', 'D19_TELKO_ANZ_24',\n",
      "       'D19_TELKO_OFFLINE_DATUM', 'D19_TELKO_ONLINE_DATUM',\n",
      "       'D19_TELKO_ONLINE_QUOTE_12', 'D19_VERSAND_ANZ_12', 'D19_VERSAND_ANZ_24',\n",
      "       'D19_VERSAND_DATUM', 'D19_VERSAND_OFFLINE_DATUM',\n",
      "       'D19_VERSAND_ONLINE_DATUM', 'D19_VERSAND_ONLINE_QUOTE_12',\n",
      "       'D19_VERSI_ANZ_12', 'D19_VERSI_ANZ_24', 'D19_VERSI_ONLINE_QUOTE_12',\n",
      "       'EXTSEL992', 'KBA05_BAUMAX', 'KK_KUNDENTYP', 'TITEL_KZ'],\n",
      "      dtype='object')\n"
     ]
    }
   ],
   "source": [
    "#droping columns that have more than 20% of missing values\n",
    "column_nans = azdias.isnull().mean()\n",
    "drop_cols = azdias.columns[column_nans > 0.20]\n",
    "print('columns to drop: ', drop_cols)"
   ],
   "metadata": {
    "collapsed": false,
    "pycharm": {
     "name": "#%%\n"
    }
   }
  },
  {
   "cell_type": "code",
   "execution_count": 71,
   "outputs": [],
   "source": [],
   "metadata": {
    "collapsed": false,
    "pycharm": {
     "name": "#%%\n"
    }
   }
  },
  {
   "cell_type": "code",
   "execution_count": 72,
   "outputs": [],
   "source": [
    "azdias.drop(drop_cols, axis=1, inplace=True)"
   ],
   "metadata": {
    "collapsed": false,
    "pycharm": {
     "name": "#%%\n"
    }
   }
  },
  {
   "cell_type": "code",
   "execution_count": 73,
   "outputs": [],
   "source": [
    "customers.drop(drop_cols, axis=1, inplace=True)"
   ],
   "metadata": {
    "collapsed": false,
    "pycharm": {
     "name": "#%%\n"
    }
   }
  },
  {
   "cell_type": "code",
   "execution_count": 74,
   "outputs": [
    {
     "data": {
      "text/plain": "0         NaN\n1         4.0\n2         2.0\n3         7.0\n4         3.0\n         ... \n891216    3.0\n891217    5.0\n891218    7.0\n891219    5.0\n891220    4.0\nName: WOHNLAGE, Length: 891221, dtype: float64"
     },
     "execution_count": 74,
     "metadata": {},
     "output_type": "execute_result"
    }
   ],
   "source": [
    "##Working on wohnlage remove 0 as no socre calculate, change by nan\n",
    "azdias['WOHNLAGE'].replace(0,np.nan)"
   ],
   "metadata": {
    "collapsed": false,
    "pycharm": {
     "name": "#%%\n"
    }
   }
  },
  {
   "cell_type": "code",
   "execution_count": 75,
   "outputs": [],
   "source": [
    "##Working on OST\n",
    "azdias['OST_WEST_KZ'].replace(['O','W'], [0, 1], inplace=True)\n",
    "customers['OST_WEST_KZ'].replace(['O','W'], [0, 1], inplace=True)"
   ],
   "metadata": {
    "collapsed": false,
    "pycharm": {
     "name": "#%%\n"
    }
   }
  },
  {
   "cell_type": "code",
   "execution_count": 76,
   "outputs": [
    {
     "data": {
      "text/plain": "array([nan, 51.0, 24.0, 12.0, 43.0, 54.0, 22.0, 14.0, 13.0, 15.0, 33.0,\n       41.0, 34.0, 55.0, 25.0, 23.0, 31.0, 52.0, 35.0, 45.0, 44.0, 32.0,\n       '22', '24', '41', '12', '54', '51', '44', '35', '23', '25', '14',\n       '34', '52', '55', '31', '32', '15', '13', '43', '33', '45'],\n      dtype=object)"
     },
     "execution_count": 76,
     "metadata": {},
     "output_type": "execute_result"
    }
   ],
   "source": [
    "azdias['CAMEO_INTL_2015'].unique()"
   ],
   "metadata": {
    "collapsed": false,
    "pycharm": {
     "name": "#%%\n"
    }
   }
  },
  {
   "cell_type": "code",
   "execution_count": 87,
   "outputs": [],
   "source": [
    "##Working on CAMEO_INTL_2015\n",
    "values_list_azdias = list(azdias['CAMEO_INTL_2015'].values)\n",
    "values_list_customers = list(customers['CAMEO_INTL_2015'].values)"
   ],
   "metadata": {
    "collapsed": false,
    "pycharm": {
     "name": "#%%\n"
    }
   }
  },
  {
   "cell_type": "code",
   "execution_count": 84,
   "outputs": [],
   "source": [
    "azdias['WEALTH'] = [value if pd.isnull(value) else int(str(value)[0]) for value in values_list_azdias]"
   ],
   "metadata": {
    "collapsed": false,
    "pycharm": {
     "name": "#%%\n"
    }
   }
  },
  {
   "cell_type": "code",
   "execution_count": 85,
   "outputs": [],
   "source": [
    "azdias['LIFE_AGE'] = [value if pd.isnull(value) else int(str(value)[1]) for value in values_list_azdias]"
   ],
   "metadata": {
    "collapsed": false,
    "pycharm": {
     "name": "#%%\n"
    }
   }
  },
  {
   "cell_type": "code",
   "execution_count": 88,
   "outputs": [],
   "source": [
    "customers['WEALTH'] = [value if pd.isnull(value) else int(str(value)[0]) for value in values_list_customers]"
   ],
   "metadata": {
    "collapsed": false,
    "pycharm": {
     "name": "#%%\n"
    }
   }
  },
  {
   "cell_type": "code",
   "execution_count": 89,
   "outputs": [],
   "source": [
    "customers['LIFE_AGE'] = [value if pd.isnull(value) else int(str(value)[1]) for value in values_list_customers]"
   ],
   "metadata": {
    "collapsed": false,
    "pycharm": {
     "name": "#%%\n"
    }
   }
  },
  {
   "cell_type": "code",
   "execution_count": null,
   "outputs": [],
   "source": [
    "azdias.drop(['CAMEO_DEUG_2015'], axis=1, inplace=True)"
   ],
   "metadata": {
    "collapsed": false,
    "pycharm": {
     "name": "#%%\n"
    }
   }
  },
  {
   "cell_type": "code",
   "execution_count": 34,
   "outputs": [
    {
     "ename": "NameError",
     "evalue": "name 'customers' is not defined",
     "output_type": "error",
     "traceback": [
      "\u001B[0;31m---------------------------------------------------------------------------\u001B[0m",
      "\u001B[0;31mNameError\u001B[0m                                 Traceback (most recent call last)",
      "\u001B[0;32m<ipython-input-34-e65c71c7adfa>\u001B[0m in \u001B[0;36m<module>\u001B[0;34m\u001B[0m\n\u001B[0;32m----> 1\u001B[0;31m \u001B[0mcustomers\u001B[0m\u001B[0;34m.\u001B[0m\u001B[0mdrop\u001B[0m\u001B[0;34m(\u001B[0m\u001B[0;34m[\u001B[0m\u001B[0;34m'CAMEO_DEUG_2015'\u001B[0m\u001B[0;34m]\u001B[0m\u001B[0;34m,\u001B[0m \u001B[0maxis\u001B[0m\u001B[0;34m=\u001B[0m\u001B[0;36m1\u001B[0m\u001B[0;34m,\u001B[0m \u001B[0minplace\u001B[0m\u001B[0;34m=\u001B[0m\u001B[0;32mTrue\u001B[0m\u001B[0;34m)\u001B[0m\u001B[0;34m\u001B[0m\u001B[0;34m\u001B[0m\u001B[0m\n\u001B[0m\u001B[1;32m      2\u001B[0m \u001B[0;34m\u001B[0m\u001B[0m\n",
      "\u001B[0;31mNameError\u001B[0m: name 'customers' is not defined"
     ]
    }
   ],
   "source": [
    "customers.drop(['CAMEO_DEUG_2015'], axis=1, inplace=True)"
   ],
   "metadata": {
    "collapsed": false,
    "pycharm": {
     "name": "#%%\n"
    }
   }
  },
  {
   "cell_type": "code",
   "execution_count": 35,
   "outputs": [
    {
     "ename": "NameError",
     "evalue": "name 'customers' is not defined",
     "output_type": "error",
     "traceback": [
      "\u001B[0;31m---------------------------------------------------------------------------\u001B[0m",
      "\u001B[0;31mNameError\u001B[0m                                 Traceback (most recent call last)",
      "\u001B[0;32m<ipython-input-35-c5854d3772af>\u001B[0m in \u001B[0;36m<module>\u001B[0;34m\u001B[0m\n\u001B[0;32m----> 1\u001B[0;31m \u001B[0mcol_cus\u001B[0m \u001B[0;34m=\u001B[0m \u001B[0mcustomers\u001B[0m\u001B[0;34m.\u001B[0m\u001B[0mcolumns\u001B[0m\u001B[0;34m\u001B[0m\u001B[0;34m\u001B[0m\u001B[0m\n\u001B[0m\u001B[1;32m      2\u001B[0m \u001B[0mprint\u001B[0m\u001B[0;34m(\u001B[0m\u001B[0mcol_cus\u001B[0m\u001B[0;34m[\u001B[0m\u001B[0;36m10\u001B[0m\u001B[0;34m:\u001B[0m\u001B[0;36m50\u001B[0m\u001B[0;34m]\u001B[0m\u001B[0;34m)\u001B[0m\u001B[0;34m\u001B[0m\u001B[0;34m\u001B[0m\u001B[0m\n\u001B[1;32m      3\u001B[0m \u001B[0;34m\u001B[0m\u001B[0m\n",
      "\u001B[0;31mNameError\u001B[0m: name 'customers' is not defined"
     ]
    }
   ],
   "source": [
    "col_cus = customers.columns\n",
    "print(col_cus[10:50])"
   ],
   "metadata": {
    "collapsed": false,
    "pycharm": {
     "name": "#%%\n"
    }
   }
  },
  {
   "cell_type": "code",
   "execution_count": 98,
   "outputs": [],
   "source": [
    "azdias['PLZ8_BAUMAX_FAMILY'] = np.where(azdias['PLZ8_BAUMAX']==5, 0, azdias['PLZ8_BAUMAX'])\n",
    "azdias['PLZ8_BAUMAX_bussiness'] = np.where(azdias['PLZ8_BAUMAX']==5, 1, np.where(azdias['PLZ8_BAUMAX'].isnull(),azdias['PLZ8_BAUMAX'], 0))"
   ],
   "metadata": {
    "collapsed": false,
    "pycharm": {
     "name": "#%%\n"
    }
   }
  },
  {
   "cell_type": "code",
   "execution_count": 104,
   "outputs": [
    {
     "data": {
      "text/plain": "0.0    677373\n1.0     97333\nName: PLZ8_BAUMAX_bussiness, dtype: int64"
     },
     "execution_count": 104,
     "metadata": {},
     "output_type": "execute_result"
    }
   ],
   "source": [
    "azdias['PLZ8_BAUMAX_bussiness'].value_counts()\n"
   ],
   "metadata": {
    "collapsed": false,
    "pycharm": {
     "name": "#%%\n"
    }
   }
  },
  {
   "cell_type": "code",
   "execution_count": 39,
   "outputs": [
    {
     "name": "stderr",
     "output_type": "stream",
     "text": [
      "/home/jair/.cache/pypoetry/virtualenvs/arvatocapstoneproject-L5ipTb8G-py3.7/lib/python3.7/site-packages/IPython/core/interactiveshell.py:3147: DtypeWarning: Columns (18,19) have mixed types.Specify dtype option on import or set low_memory=False.\n",
      "  interactivity=interactivity, compiler=compiler, result=result)\n"
     ]
    }
   ],
   "source": [
    "df_train = pd.read_csv(all_paths[4], sep=';')\n",
    "\n",
    "# TODO: TRANSFORMAR TUDO ISTO EM UMA FUNÇÃO DE LIMPEZA\n"
   ],
   "metadata": {
    "collapsed": false,
    "pycharm": {
     "name": "#%%\n"
    }
   }
  }
 ],
 "metadata": {
  "kernelspec": {
   "display_name": "Python 3",
   "language": "python",
   "name": "python3"
  },
  "language_info": {
   "codemirror_mode": {
    "name": "ipython",
    "version": 2
   },
   "file_extension": ".py",
   "mimetype": "text/x-python",
   "name": "python",
   "nbconvert_exporter": "python",
   "pygments_lexer": "ipython2",
   "version": "2.7.6"
  }
 },
 "nbformat": 4,
 "nbformat_minor": 0
}