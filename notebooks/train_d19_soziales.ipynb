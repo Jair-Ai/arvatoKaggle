{
 "cells": [
  {
   "cell_type": "code",
   "execution_count": 12,
   "metadata": {
    "collapsed": true
   },
   "outputs": [],
   "source": [
    "import mlflow\n",
    "import pandas as pd\n",
    "import numpy as np\n",
    "from catboost import CatBoostClassifier\n",
    "from sklearn.metrics import accuracy_score, roc_auc_score\n",
    "from process_and_ml.data_wrangler import load_azdias\n",
    "import shap"
   ]
  },
  {
   "cell_type": "code",
   "execution_count": 2,
   "outputs": [],
   "source": [
    "train_df = pd.read_csv('../data/cleaned_data/train_cleaned.csv')\n",
    "where_response = pd.read_csv('../data/train_test_files/Udacity_MAILOUT_052018_TRAIN.csv')"
   ],
   "metadata": {
    "collapsed": false,
    "pycharm": {
     "name": "#%%\n"
    }
   }
  },
  {
   "cell_type": "code",
   "execution_count": 3,
   "outputs": [
    {
     "name": "stderr",
     "output_type": "stream",
     "text": [
      "Columns (18,19) have mixed types.Specify dtype option on import or set low_memory=False.\n"
     ]
    }
   ],
   "source": [
    "where_response = pd.read_csv('../data/train_test_files/Udacity_MAILOUT_052018_TRAIN.csv', sep=';')\n"
   ],
   "metadata": {
    "collapsed": false,
    "pycharm": {
     "name": "#%%\n"
    }
   }
  },
  {
   "cell_type": "code",
   "execution_count": 9,
   "outputs": [],
   "source": [
    "response = where_response['RESPONSE']"
   ],
   "metadata": {
    "collapsed": false,
    "pycharm": {
     "name": "#%%\n"
    }
   }
  },
  {
   "cell_type": "code",
   "execution_count": 10,
   "outputs": [],
   "source": [
    "train_df_ok = train_df.iloc[:,1:]"
   ],
   "metadata": {
    "collapsed": false,
    "pycharm": {
     "name": "#%%\n"
    }
   }
  },
  {
   "cell_type": "code",
   "execution_count": 14,
   "outputs": [],
   "source": [
    "from process_and_ml.pipeline import load_catboost_model, target_stats_by_feature\n"
   ],
   "metadata": {
    "collapsed": false,
    "pycharm": {
     "name": "#%%\n"
    }
   }
  },
  {
   "cell_type": "code",
   "execution_count": 7,
   "outputs": [],
   "source": [
    "catboost = load_catboost_model('catboost_first.cbm')"
   ],
   "metadata": {
    "collapsed": false,
    "pycharm": {
     "name": "#%%\n"
    }
   }
  },
  {
   "cell_type": "code",
   "execution_count": 11,
   "outputs": [],
   "source": [
    "d19_df = where_response['D19_SOZIALES']"
   ],
   "metadata": {
    "collapsed": false,
    "pycharm": {
     "name": "#%%\n"
    }
   }
  },
  {
   "cell_type": "code",
   "execution_count": 21,
   "outputs": [],
   "source": [
    "from process_and_ml.pipeline import cat_features_fill_na\n",
    "\n",
    "train_df_ok = cat_features_fill_na(train_df_ok, cat_features=['CAMEO_DEU_2015', 'OST_WEST_KZ'])\n"
   ],
   "metadata": {
    "collapsed": false,
    "pycharm": {
     "name": "#%%\n"
    }
   }
  },
  {
   "cell_type": "code",
   "execution_count": 21,
   "outputs": [],
   "source": [],
   "metadata": {
    "collapsed": false,
    "pycharm": {
     "name": "#%%\n"
    }
   }
  },
  {
   "cell_type": "code",
   "execution_count": 23,
   "outputs": [],
   "source": [
    "y_pred=catboost.predict_proba(train_df_ok)[:, 1]\n",
    "predict =catboost.predict(train_df_ok)"
   ],
   "metadata": {
    "collapsed": false,
    "pycharm": {
     "name": "#%%\n"
    }
   }
  },
  {
   "cell_type": "code",
   "execution_count": 26,
   "outputs": [
    {
     "name": "stdout",
     "output_type": "stream",
     "text": [
      "Acuracia sem d19 = 0.687305060285834\n",
      "ROC normal = 0.6065987499977848\n"
     ]
    }
   ],
   "source": [
    "print(f'Acuracia sem d19 = {accuracy_score(response, predict)}')\n",
    "print(f'ROC normal = {roc_auc_score(response, y_pred)}')\n"
   ],
   "metadata": {
    "collapsed": false,
    "pycharm": {
     "name": "#%%\n"
    }
   }
  },
  {
   "cell_type": "code",
   "execution_count": 27,
   "outputs": [],
   "source": [
    "df_19 = pd.DataFrame(d19_df)\n",
    "df_19['pred'] = y_pred\n"
   ],
   "metadata": {
    "collapsed": false,
    "pycharm": {
     "name": "#%%\n"
    }
   }
  },
  {
   "cell_type": "code",
   "execution_count": 112,
   "outputs": [],
   "source": [
    "df_19['pred_soc'] = np.where(df_19['D19_SOZIALES']==1, np.where(df_19['pred'] < 0.5, df_19['pred']*1.8, df_19['pred']), df_19['pred']*0.1)\n"
   ],
   "metadata": {
    "collapsed": false,
    "pycharm": {
     "name": "#%%\n"
    }
   }
  },
  {
   "cell_type": "code",
   "execution_count": 113,
   "outputs": [
    {
     "name": "stdout",
     "output_type": "stream",
     "text": [
      "ROC ncom 19 = 0.750858136089694\n"
     ]
    }
   ],
   "source": [
    "print(f'ROC ncom 19 = {roc_auc_score(response, df_19.pred_soc.values)}')"
   ],
   "metadata": {
    "collapsed": false,
    "pycharm": {
     "name": "#%%\n"
    }
   }
  },
  {
   "cell_type": "code",
   "execution_count": 84,
   "outputs": [],
   "source": [
    "y_pred=catboost.predict_proba(train_df_ok)[:, 1]\n",
    "predict =catboost.predict(train_df_ok)"
   ],
   "metadata": {
    "collapsed": false,
    "pycharm": {
     "name": "#%%\n"
    }
   }
  },
  {
   "cell_type": "code",
   "execution_count": 102,
   "outputs": [
    {
     "name": "stdout",
     "output_type": "stream",
     "text": [
      "ROC ncom 19 = 0.7467074252328914\n"
     ]
    }
   ],
   "source": [],
   "metadata": {
    "collapsed": false,
    "pycharm": {
     "name": "#%%\n"
    }
   }
  },
  {
   "cell_type": "code",
   "execution_count": 8,
   "outputs": [
    {
     "ename": "NameError",
     "evalue": "name 'df_19' is not defined",
     "output_type": "error",
     "traceback": [
      "\u001B[0;31m---------------------------------------------------------------------------\u001B[0m",
      "\u001B[0;31mNameError\u001B[0m                                 Traceback (most recent call last)",
      "\u001B[0;32m<ipython-input-8-44a5ad022a0c>\u001B[0m in \u001B[0;36m<module>\u001B[0;34m\u001B[0m\n\u001B[0;32m----> 1\u001B[0;31m \u001B[0mdf_19\u001B[0m\u001B[0;34m[\u001B[0m\u001B[0;34m'wealth'\u001B[0m\u001B[0;34m]\u001B[0m \u001B[0;34m=\u001B[0m \u001B[0mtrain_df\u001B[0m\u001B[0;34m[\u001B[0m\u001B[0;34m'WEALTH'\u001B[0m\u001B[0;34m]\u001B[0m\u001B[0;34m\u001B[0m\u001B[0;34m\u001B[0m\u001B[0m\n\u001B[0m\u001B[1;32m      2\u001B[0m \u001B[0;34m\u001B[0m\u001B[0m\n",
      "\u001B[0;31mNameError\u001B[0m: name 'df_19' is not defined"
     ]
    }
   ],
   "source": [
    "df_19['wealth'] = train_df['WEALTH']"
   ],
   "metadata": {
    "collapsed": false,
    "pycharm": {
     "name": "#%%\n"
    }
   }
  },
  {
   "cell_type": "code",
   "execution_count": 101,
   "outputs": [],
   "source": [
    "df_19['pred_soc'] = np.where(df_19['wealth']> 3, np.where(df_19['pred_soc'] < 0.8, df_19['pred_soc']*1.2, df_19['pred_soc']), df_19['pred_soc'])"
   ],
   "metadata": {
    "collapsed": false,
    "pycharm": {
     "name": "#%%\n"
    }
   }
  },
  {
   "cell_type": "code",
   "execution_count": 73,
   "outputs": [
    {
     "name": "stdout",
     "output_type": "stream",
     "text": [
      "ROC ncom 19 + wealth = 0.7408638996737661\n"
     ]
    }
   ],
   "source": [
    "print(f'ROC ncom 19 + wealth = {roc_auc_score(response, df_19.pred_soc.values)}')"
   ],
   "metadata": {
    "collapsed": false,
    "pycharm": {
     "name": "#%%\n"
    }
   }
  },
  {
   "cell_type": "code",
   "execution_count": 122,
   "outputs": [],
   "source": [
    "for index, row in df_19.iterrows():\n",
    "    if row['D19_SOZIALES']==1:\n",
    "        if row['pred'] > 0.6:\n",
    "            row['pred_soc'] = row['pred']*1.1\n",
    "        elif 0.3 < row['pred'] < 0.7:\n",
    "            row['pred_soc'] = row['pred']*1.8\n",
    "        else:\n",
    "            row['pred_soc'] = row['pred']*4\n",
    "    elif row['D19_SOZIALES'] == 5 or row['D19_SOZIALES'] == 4 or row['D19_SOZIALES'] == 3 or row['D19_SOZIALES'] == 2:\n",
    "        if row['pred'] > 0.6:\n",
    "            row['pred_soc'] = row['pred']*0.6\n",
    "        elif 0.3 < row['pred'] < 0.7:\n",
    "            row['pred_soc'] = row['pred']*0.5\n",
    "        else:\n",
    "            row['pred_soc'] = row['pred']*0.2\n",
    "    else:\n",
    "            row['pred_soc'] = row['pred']\n"
   ],
   "metadata": {
    "collapsed": false,
    "pycharm": {
     "name": "#%%\n"
    }
   }
  },
  {
   "cell_type": "code",
   "execution_count": 123,
   "outputs": [
    {
     "name": "stdout",
     "output_type": "stream",
     "text": [
      "ROC ncom 19 weigths iterrows = 0.7471900644848039\n"
     ]
    }
   ],
   "source": [
    "print(f'ROC ncom 19 weigths iterrows = {roc_auc_score(response, df_19.pred_soc.values)}')"
   ],
   "metadata": {
    "collapsed": false,
    "pycharm": {
     "name": "#%%\n"
    }
   }
  },
  {
   "cell_type": "code",
   "execution_count": 27,
   "outputs": [],
   "source": [
    "\n",
    "df_to_model_transformed = pd.concat([train_df_ok, response], axis=1)"
   ],
   "metadata": {
    "collapsed": false,
    "pycharm": {
     "name": "#%%\n"
    }
   }
  },
  {
   "cell_type": "code",
   "execution_count": 38,
   "outputs": [
    {
     "data": {
      "text/plain": "   CAMEO_DEU_2015  RESPONSE_mean  RESPONSE_count\n2              1B       0.030457             197\n5              1E       0.027397             365\n1              1A       0.020260             691\n19             5A       0.019272             467\n22             5D       0.019060             787\n21             5C       0.018957             422\n16             4C       0.018953            2216\n6              2A       0.018425             597\n24             5F       0.016736             239\n43             9D       0.016442             669\n9              2D       0.016072            1991\n20             5B       0.015982             438\n17             4D       0.015660             447\n13             3D       0.015335            2152\n4              1D       0.014778             812\n42             9C       0.013857             433\n36             8A       0.013776            1597\n12             3C       0.013575            1547\n26             6B       0.013458            2452\n33             7C       0.013298             376\n44             9E       0.013228             378\n30             6F       0.012500             400\n0              -1       0.011900            7899\n23             5E       0.011236             178\n27             6C       0.010512             761\n39             8D       0.010274            1168\n3              1C       0.009585             313\n32             7B       0.009479             844\n34             7D       0.009390             213\n14             4A       0.008907            1684\n31             7A       0.008857            1242\n10             3A       0.008798             341\n7              2B       0.008493             942\n25             6A       0.007752             258\n35             7E       0.007712             389\n29             6E       0.007162            1117\n37             8B       0.007157             978\n8              2C       0.006820            1173\n38             8C       0.006314            1267\n41             9B       0.005825             515\n28             6D       0.005333             375\n11             3B       0.005222             383\n40             9A       0.004301             465\n15             4B       0.004158             481\n18             4E       0.003300             303",
      "text/html": "<div>\n<style scoped>\n    .dataframe tbody tr th:only-of-type {\n        vertical-align: middle;\n    }\n\n    .dataframe tbody tr th {\n        vertical-align: top;\n    }\n\n    .dataframe thead th {\n        text-align: right;\n    }\n</style>\n<table border=\"1\" class=\"dataframe\">\n  <thead>\n    <tr style=\"text-align: right;\">\n      <th></th>\n      <th>CAMEO_DEU_2015</th>\n      <th>RESPONSE_mean</th>\n      <th>RESPONSE_count</th>\n    </tr>\n  </thead>\n  <tbody>\n    <tr>\n      <th>2</th>\n      <td>1B</td>\n      <td>0.030457</td>\n      <td>197</td>\n    </tr>\n    <tr>\n      <th>5</th>\n      <td>1E</td>\n      <td>0.027397</td>\n      <td>365</td>\n    </tr>\n    <tr>\n      <th>1</th>\n      <td>1A</td>\n      <td>0.020260</td>\n      <td>691</td>\n    </tr>\n    <tr>\n      <th>19</th>\n      <td>5A</td>\n      <td>0.019272</td>\n      <td>467</td>\n    </tr>\n    <tr>\n      <th>22</th>\n      <td>5D</td>\n      <td>0.019060</td>\n      <td>787</td>\n    </tr>\n    <tr>\n      <th>21</th>\n      <td>5C</td>\n      <td>0.018957</td>\n      <td>422</td>\n    </tr>\n    <tr>\n      <th>16</th>\n      <td>4C</td>\n      <td>0.018953</td>\n      <td>2216</td>\n    </tr>\n    <tr>\n      <th>6</th>\n      <td>2A</td>\n      <td>0.018425</td>\n      <td>597</td>\n    </tr>\n    <tr>\n      <th>24</th>\n      <td>5F</td>\n      <td>0.016736</td>\n      <td>239</td>\n    </tr>\n    <tr>\n      <th>43</th>\n      <td>9D</td>\n      <td>0.016442</td>\n      <td>669</td>\n    </tr>\n    <tr>\n      <th>9</th>\n      <td>2D</td>\n      <td>0.016072</td>\n      <td>1991</td>\n    </tr>\n    <tr>\n      <th>20</th>\n      <td>5B</td>\n      <td>0.015982</td>\n      <td>438</td>\n    </tr>\n    <tr>\n      <th>17</th>\n      <td>4D</td>\n      <td>0.015660</td>\n      <td>447</td>\n    </tr>\n    <tr>\n      <th>13</th>\n      <td>3D</td>\n      <td>0.015335</td>\n      <td>2152</td>\n    </tr>\n    <tr>\n      <th>4</th>\n      <td>1D</td>\n      <td>0.014778</td>\n      <td>812</td>\n    </tr>\n    <tr>\n      <th>42</th>\n      <td>9C</td>\n      <td>0.013857</td>\n      <td>433</td>\n    </tr>\n    <tr>\n      <th>36</th>\n      <td>8A</td>\n      <td>0.013776</td>\n      <td>1597</td>\n    </tr>\n    <tr>\n      <th>12</th>\n      <td>3C</td>\n      <td>0.013575</td>\n      <td>1547</td>\n    </tr>\n    <tr>\n      <th>26</th>\n      <td>6B</td>\n      <td>0.013458</td>\n      <td>2452</td>\n    </tr>\n    <tr>\n      <th>33</th>\n      <td>7C</td>\n      <td>0.013298</td>\n      <td>376</td>\n    </tr>\n    <tr>\n      <th>44</th>\n      <td>9E</td>\n      <td>0.013228</td>\n      <td>378</td>\n    </tr>\n    <tr>\n      <th>30</th>\n      <td>6F</td>\n      <td>0.012500</td>\n      <td>400</td>\n    </tr>\n    <tr>\n      <th>0</th>\n      <td>-1</td>\n      <td>0.011900</td>\n      <td>7899</td>\n    </tr>\n    <tr>\n      <th>23</th>\n      <td>5E</td>\n      <td>0.011236</td>\n      <td>178</td>\n    </tr>\n    <tr>\n      <th>27</th>\n      <td>6C</td>\n      <td>0.010512</td>\n      <td>761</td>\n    </tr>\n    <tr>\n      <th>39</th>\n      <td>8D</td>\n      <td>0.010274</td>\n      <td>1168</td>\n    </tr>\n    <tr>\n      <th>3</th>\n      <td>1C</td>\n      <td>0.009585</td>\n      <td>313</td>\n    </tr>\n    <tr>\n      <th>32</th>\n      <td>7B</td>\n      <td>0.009479</td>\n      <td>844</td>\n    </tr>\n    <tr>\n      <th>34</th>\n      <td>7D</td>\n      <td>0.009390</td>\n      <td>213</td>\n    </tr>\n    <tr>\n      <th>14</th>\n      <td>4A</td>\n      <td>0.008907</td>\n      <td>1684</td>\n    </tr>\n    <tr>\n      <th>31</th>\n      <td>7A</td>\n      <td>0.008857</td>\n      <td>1242</td>\n    </tr>\n    <tr>\n      <th>10</th>\n      <td>3A</td>\n      <td>0.008798</td>\n      <td>341</td>\n    </tr>\n    <tr>\n      <th>7</th>\n      <td>2B</td>\n      <td>0.008493</td>\n      <td>942</td>\n    </tr>\n    <tr>\n      <th>25</th>\n      <td>6A</td>\n      <td>0.007752</td>\n      <td>258</td>\n    </tr>\n    <tr>\n      <th>35</th>\n      <td>7E</td>\n      <td>0.007712</td>\n      <td>389</td>\n    </tr>\n    <tr>\n      <th>29</th>\n      <td>6E</td>\n      <td>0.007162</td>\n      <td>1117</td>\n    </tr>\n    <tr>\n      <th>37</th>\n      <td>8B</td>\n      <td>0.007157</td>\n      <td>978</td>\n    </tr>\n    <tr>\n      <th>8</th>\n      <td>2C</td>\n      <td>0.006820</td>\n      <td>1173</td>\n    </tr>\n    <tr>\n      <th>38</th>\n      <td>8C</td>\n      <td>0.006314</td>\n      <td>1267</td>\n    </tr>\n    <tr>\n      <th>41</th>\n      <td>9B</td>\n      <td>0.005825</td>\n      <td>515</td>\n    </tr>\n    <tr>\n      <th>28</th>\n      <td>6D</td>\n      <td>0.005333</td>\n      <td>375</td>\n    </tr>\n    <tr>\n      <th>11</th>\n      <td>3B</td>\n      <td>0.005222</td>\n      <td>383</td>\n    </tr>\n    <tr>\n      <th>40</th>\n      <td>9A</td>\n      <td>0.004301</td>\n      <td>465</td>\n    </tr>\n    <tr>\n      <th>15</th>\n      <td>4B</td>\n      <td>0.004158</td>\n      <td>481</td>\n    </tr>\n    <tr>\n      <th>18</th>\n      <td>4E</td>\n      <td>0.003300</td>\n      <td>303</td>\n    </tr>\n  </tbody>\n</table>\n</div>"
     },
     "execution_count": 38,
     "metadata": {},
     "output_type": "execute_result"
    }
   ],
   "source": [
    "target_stats_by_feature(df_to_model_transformed,\n",
    "                        feature='CAMEO_DEU_2015',\n",
    "                        target='RESPONSE',\n",
    "                        fill_na_value=-1)"
   ],
   "metadata": {
    "collapsed": false,
    "pycharm": {
     "name": "#%%\n"
    }
   }
  },
  {
   "cell_type": "code",
   "execution_count": 36,
   "outputs": [
    {
     "name": "stdout",
     "output_type": "stream",
     "text": [
      "RESPONSE\n"
     ]
    }
   ],
   "source": [
    "weights_column = {}\n",
    "for each in df_to_model_transformed.columns:\n",
    "    if each == 'RESPONSE':\n",
    "        print(each)\n",
    "    else:\n",
    "        mean_df = target_stats_by_feature(df_to_model_transformed,\n",
    "                                          feature=each,\n",
    "                                          target='RESPONSE',\n",
    "                                          fill_na_value=-1)\n",
    "        mean_sum = mean_df.RESPONSE_mean.sum()\n",
    "        weights_column[each] = mean_sum\n",
    "\n",
    "\n",
    "\n",
    "sort_orders = sorted(weights_column.items(), key=lambda x: x[1], reverse=True)"
   ],
   "metadata": {
    "collapsed": false,
    "pycharm": {
     "name": "#%%\n"
    }
   }
  },
  {
   "cell_type": "code",
   "execution_count": null,
   "outputs": [],
   "source": [
    "## RODA COM O POPULATIONS TOTAL\n"
   ],
   "metadata": {
    "collapsed": false,
    "pycharm": {
     "name": "#%%\n"
    }
   }
  }
 ],
 "metadata": {
  "kernelspec": {
   "display_name": "Python 3",
   "language": "python",
   "name": "python3"
  },
  "language_info": {
   "codemirror_mode": {
    "name": "ipython",
    "version": 2
   },
   "file_extension": ".py",
   "mimetype": "text/x-python",
   "name": "python",
   "nbconvert_exporter": "python",
   "pygments_lexer": "ipython2",
   "version": "2.7.6"
  }
 },
 "nbformat": 4,
 "nbformat_minor": 0
}