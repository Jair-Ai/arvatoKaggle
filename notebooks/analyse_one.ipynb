{
 "cells": [
  {
   "cell_type": "markdown",
   "source": [
    "# Capstone Project: Create a Customer Segmentation Report for Arvato Financial Services\n",
    "\n",
    "In this project, you will analyze demographics data for customers of a mail-order sales company in Germany, comparing it against demographics information for the general population. You'll use unsupervised learning techniques to perform customer segmentation, identifying the parts of the population that best describe the core customer base of the company. Then, you'll apply what you've learned on a third dataset with demographics information for targets of a marketing campaign for the company, and use a model to predict which individuals are most likely to convert into becoming customers for the company. The data that you will use has been provided by our partners at Bertelsmann Arvato Analytics, and represents a real-life data science task.\n",
    "\n",
    "If you completed the first term of this program, you will be familiar with the first part of this project, from the unsupervised learning project. The versions of those two datasets used in this project will include many more features and has not been pre-cleaned. You are also free to choose whatever approach you'd like to analyzing the data rather than follow pre-determined steps. In your work on this project, make sure that you carefully document your steps and decisions, since your main deliverable for this project will be a blog post reporting your findings."
   ],
   "metadata": {
    "collapsed": false
   }
  },
  {
   "cell_type": "code",
   "execution_count": 1,
   "outputs": [
    {
     "name": "stdout",
     "output_type": "stream",
     "text": [
      "Warning: Your Kaggle API key is readable by other users on this system! To fix this, you can run 'chmod 600 /home/jair/.kaggle/kaggle.json'\n"
     ]
    }
   ],
   "source": [
    "# import libraries here; add more as necessary\n",
    "import numpy as np\n",
    "import os\n",
    "os.environ['MODIN_OUT_OF_CORE']='true'\n",
    "os.environ[\"MODIN_ENGINE\"] = \"ray\"  # Modin will use Ray\n",
    "os.environ[\"MODIN_CPUS\"] = \"4\"\n",
    "#os.environ[\"MODIN_ENGINE\"] = \"dask\"  # Modin will use Dask\n",
    "import modin.pandas as pd\n",
    "import matplotlib.pyplot as plt\n",
    "from matplotlib.ticker import PercentFormatter\n",
    "import seaborn as sns\n",
    "from scipy import stats\n",
    "# magic word for producing visualizations in notebook\n",
    "from config import settings\n",
    "from process_and_ml import load_azdias, load_customers, load_test_file\n",
    "from process_and_ml import where_is\n",
    "%matplotlib inline\n",
    "\n",
    "# show all observation-related columns/rows\n",
    "pd.set_option('display.max_columns', 300)\n",
    "pd.set_option('display.max_rows', 300)\n",
    "from process_and_ml.where_is import WhereIs"
   ],
   "metadata": {
    "collapsed": false,
    "pycharm": {
     "name": "#%%\n"
    }
   }
  },
  {
   "cell_type": "code",
   "execution_count": null,
   "outputs": [],
   "source": [],
   "metadata": {
    "collapsed": false,
    "pycharm": {
     "name": "#%%\n"
    }
   }
  },
  {
   "cell_type": "markdown",
   "source": [
    "## Part 0: Get to Know the Data\n",
    "\n",
    "There are four data files associated with this project:\n",
    "\n",
    "- `Udacity_AZDIAS_052018.csv`: Demographics data for the general population of Germany; 891 211 persons (rows) x 366 features (columns).\n",
    "- `Udacity_CUSTOMERS_052018.csv`: Demographics data for customers of a mail-order company; 191 652 persons (rows) x 369 features (columns).\n",
    "- `Udacity_MAILOUT_052018_TRAIN.csv`: Demographics data for individuals who were targets of a marketing campaign; 42 982 persons (rows) x 367 (columns).\n",
    "- `Udacity_MAILOUT_052018_TEST.csv`: Demographics data for individuals who were targets of a marketing campaign; 42 833 persons (rows) x 366 (columns).\n",
    "\n",
    "Each row of the demographics files represents a single person, but also includes information outside of individuals, including information about their household, building, and neighborhood. Use the information from the first two files to figure out how customers (\"CUSTOMERS\") are similar to or differ from the general population at large (\"AZDIAS\"), then use your analysis to make predictions on the other two files (\"MAILOUT\"), predicting which recipients are most likely to become a customer for the mail-order company.\n",
    "\n",
    "The \"CUSTOMERS\" file contains three extra columns ('CUSTOMER_GROUP', 'ONLINE_PURCHASE', and 'PRODUCT_GROUP'), which provide broad information about the customers depicted in the file. The original \"MAILOUT\" file included one additional column, \"RESPONSE\", which indicated whether or not each recipient became a customer of the company. For the \"TRAIN\" subset, this column has been retained, but in the \"TEST\" subset it has been removed; it is against that withheld column that your final predictions will be assessed in the Kaggle competition.\n",
    "\n",
    "Otherwise, all of the remaining columns are the same between the three data files. For more information about the columns depicted in the files, you can refer to two Excel spreadsheets provided in the workspace. [One of them](./DIAS Information Levels - Attributes 2017.xlsx) is a top-level list of attributes and descriptions, organized by informational category. [The other](./DIAS Attributes - Values 2017.xlsx) is a detailed mapping of data values for each feature in alphabetical order.\n",
    "\n",
    "In the below cell, we've provided some initial code to load in the first two datasets. Note for all of the `.csv` data files in this project that they're semicolon (`;`) delimited, so an additional argument in the [`read_csv()`](https://pandas.pydata.org/pandas-docs/stable/generated/pandas.read_csv.html) call has been included to read in the data properly. Also, considering the size of the datasets, it may take some time for them to load completely.\n",
    "\n",
    "You'll notice when the data is loaded in that a warning message will immediately pop up. Before you really start digging into the modeling and analysis, you're going to need to perform some cleaning. Take some time to browse the structure of the data and look over the informational spreadsheets to understand the data values. Make some decisions on which features to keep, which features to drop, and if any revisions need to be made on data formats. It'll be a good idea to create a function with pre-processing steps, since you'll need to clean all of the datasets before you work with them.\n"
   ],
   "metadata": {
    "collapsed": false
   }
  },
  {
   "cell_type": "code",
   "execution_count": 2,
   "outputs": [],
   "source": [
    "where_is = WhereIs(False)\n"
   ],
   "metadata": {
    "collapsed": false,
    "pycharm": {
     "name": "#%%\n"
    }
   }
  },
  {
   "cell_type": "code",
   "execution_count": 3,
   "outputs": [],
   "source": [
    "all_paths = where_is.get_paths_list\n"
   ],
   "metadata": {
    "collapsed": false,
    "pycharm": {
     "name": "#%%\n"
    }
   }
  },
  {
   "cell_type": "code",
   "execution_count": null,
   "outputs": [],
   "source": [
    "# Let's take a sample just to run much faster\n",
    "sample_ratio = 1"
   ],
   "metadata": {
    "collapsed": false,
    "pycharm": {
     "name": "#%%\n"
    }
   }
  },
  {
   "cell_type": "code",
   "execution_count": null,
   "outputs": [],
   "source": [
    "%%time\n",
    "# Load in the general demographics data.\n",
    "azdias = pd.read_csv(all_paths[0], sep=';').sample(frac=sample_ratio, random_state=settings.RANDOM_STATE)"
   ],
   "metadata": {
    "collapsed": false,
    "pycharm": {
     "name": "#%%\n"
    }
   }
  },
  {
   "cell_type": "code",
   "execution_count": null,
   "outputs": [],
   "source": [
    "azdias.head(20).T\n"
   ],
   "metadata": {
    "collapsed": false,
    "pycharm": {
     "name": "#%%\n"
    }
   }
  },
  {
   "cell_type": "code",
   "execution_count": null,
   "outputs": [],
   "source": [
    "azdias.info()\n"
   ],
   "metadata": {
    "collapsed": false,
    "pycharm": {
     "name": "#%%\n"
    }
   }
  },
  {
   "cell_type": "code",
   "execution_count": null,
   "outputs": [],
   "source": [
    "azdias.describe()"
   ],
   "metadata": {
    "collapsed": false,
    "pycharm": {
     "name": "#%%\n"
    }
   }
  },
  {
   "cell_type": "code",
   "execution_count": null,
   "outputs": [],
   "source": [
    "azdias.shape"
   ],
   "metadata": {
    "collapsed": false,
    "pycharm": {
     "name": "#%%\n"
    }
   }
  },
  {
   "cell_type": "code",
   "execution_count": null,
   "outputs": [],
   "source": [
    "#number of missing values by each column in azdias dataset\n",
    "col_nul_percent=azdias.isnull().sum()/azdias.shape[0]"
   ],
   "metadata": {
    "collapsed": false,
    "pycharm": {
     "name": "#%%\n"
    }
   }
  },
  {
   "cell_type": "code",
   "execution_count": null,
   "outputs": [],
   "source": [
    "\n",
    "plt.title(\"Distribution of missing values in azdias dataset\",fontsize=13,fontweight=\"bold\")\n",
    "plt.xlabel(\"colums names\",fontsize=13)\n",
    "plt.ylabel(\"Precent of missing values\",fontsize=13)\n",
    "(col_nul_percent.sort_values(ascending=False)[:50].plot(kind='bar', figsize=(20,8), fontsize=13));"
   ],
   "metadata": {
    "collapsed": false,
    "pycharm": {
     "name": "#%%\n"
    }
   }
  },
  {
   "cell_type": "code",
   "execution_count": null,
   "outputs": [],
   "source": [
    "#Distribution of missing values by columns:-\n",
    "missing_by_col=azdias.isnull().sum()/azdias.shape[0]"
   ],
   "metadata": {
    "collapsed": false,
    "pycharm": {
     "name": "#%%\n"
    }
   }
  },
  {
   "cell_type": "code",
   "execution_count": null,
   "outputs": [],
   "source": [
    "plt.hist(missing_by_col)\n",
    "plt.title(\"Number of missing values by column\",fontsize=10,fontweight=\"bold\")\n",
    "plt.xlabel(\"number of missing\",fontsize=10)\n",
    "plt.ylabel(\"count\",fontsize=10)\n",
    "\n"
   ],
   "metadata": {
    "collapsed": false,
    "pycharm": {
     "name": "#%%\n"
    }
   }
  },
  {
   "cell_type": "markdown",
   "source": [
    "### We have another 2 dataframe with information let's check them\n",
    "\n"
   ],
   "metadata": {
    "collapsed": false,
    "pycharm": {
     "name": "#%% md\n"
    }
   }
  },
  {
   "cell_type": "code",
   "execution_count": null,
   "outputs": [],
   "source": [
    "# First the info data frame\n",
    "df_info = pd.read_excel(all_paths[23])"
   ],
   "metadata": {
    "collapsed": false,
    "pycharm": {
     "name": "#%%\n"
    }
   }
  },
  {
   "cell_type": "code",
   "execution_count": null,
   "outputs": [],
   "source": [
    "df_info.head()"
   ],
   "metadata": {
    "collapsed": false,
    "pycharm": {
     "name": "#%%\n"
    }
   }
  },
  {
   "cell_type": "code",
   "execution_count": null,
   "outputs": [],
   "source": [
    "df_info.shape\n",
    "\"\"\"Creates `features` and `labels` splits and fill NA values\n",
    "    for categorical features passed in `cat_features` from data\n",
    "    in `df` dataframe\n",
    "\n",
    "    Target feature must be provided in `target` arg\n",
    "\n",
    "    `test_size` and `valid_size` has to be greater than zero and\n",
    "    less too one, if it is 0 removes that split set\n",
    "    \"\"\""
   ],
   "metadata": {
    "collapsed": false,
    "pycharm": {
     "name": "#%%\n"
    }
   }
  },
  {
   "cell_type": "markdown",
   "source": [
    "### We have some columns with information, but some columns is missing\n"
   ],
   "metadata": {
    "collapsed": false,
    "pycharm": {
     "name": "#%% md\n"
    }
   }
  },
  {
   "cell_type": "code",
   "execution_count": null,
   "outputs": [],
   "source": [
    "## Let's check the the attributes dataframe\n"
   ],
   "metadata": {
    "collapsed": false,
    "pycharm": {
     "name": "#%%\n"
    }
   }
  },
  {
   "cell_type": "code",
   "execution_count": 4,
   "outputs": [
    {
     "name": "stderr",
     "output_type": "stream",
     "text": [
      "UserWarning: Ray execution environment not yet initialized. Initializing...\n",
      "To remove this warning, run the following python code before doing dataframe operations:\n",
      "\n",
      "    import ray\n",
      "    ray.init()\n",
      "\n",
      "UserWarning: Parallel `read_excel` is a new feature! Please email bug_reports@modin.org if you run into any problems.\n"
     ]
    }
   ],
   "source": [
    "df_info = pd.read_excel(all_paths[22])\n"
   ],
   "metadata": {
    "collapsed": false,
    "pycharm": {
     "name": "#%%\n"
    }
   }
  },
  {
   "cell_type": "code",
   "execution_count": 5,
   "outputs": [
    {
     "data": {
      "text/plain": "   Unnamed: 0 Unnamed: 1          Unnamed: 2 Unnamed: 3  \\\n0         NaN  Attribute         Description      Value   \n1         NaN   AGER_TYP  best-ager typology         -1   \n2         NaN        NaN                 NaN          0   \n3         NaN        NaN                 NaN          1   \n4         NaN        NaN                 NaN          2   \n\n                   Unnamed: 4  \n0                     Meaning  \n1                     unknown  \n2  no classification possible  \n3             passive elderly  \n4            cultural elderly  ",
      "text/html": "<div>\n<style scoped>\n    .dataframe tbody tr th:only-of-type {\n        vertical-align: middle;\n    }\n\n    .dataframe tbody tr th {\n        vertical-align: top;\n    }\n\n    .dataframe thead th {\n        text-align: right;\n    }\n</style>\n<table border=\"1\" class=\"dataframe\">\n  <thead>\n    <tr style=\"text-align: right;\">\n      <th></th>\n      <th>Unnamed: 0</th>\n      <th>Unnamed: 1</th>\n      <th>Unnamed: 2</th>\n      <th>Unnamed: 3</th>\n      <th>Unnamed: 4</th>\n    </tr>\n  </thead>\n  <tbody>\n    <tr>\n      <th>0</th>\n      <td>NaN</td>\n      <td>Attribute</td>\n      <td>Description</td>\n      <td>Value</td>\n      <td>Meaning</td>\n    </tr>\n    <tr>\n      <th>1</th>\n      <td>NaN</td>\n      <td>AGER_TYP</td>\n      <td>best-ager typology</td>\n      <td>-1</td>\n      <td>unknown</td>\n    </tr>\n    <tr>\n      <th>2</th>\n      <td>NaN</td>\n      <td>NaN</td>\n      <td>NaN</td>\n      <td>0</td>\n      <td>no classification possible</td>\n    </tr>\n    <tr>\n      <th>3</th>\n      <td>NaN</td>\n      <td>NaN</td>\n      <td>NaN</td>\n      <td>1</td>\n      <td>passive elderly</td>\n    </tr>\n    <tr>\n      <th>4</th>\n      <td>NaN</td>\n      <td>NaN</td>\n      <td>NaN</td>\n      <td>2</td>\n      <td>cultural elderly</td>\n    </tr>\n  </tbody>\n</table>\n</div>"
     },
     "execution_count": 5,
     "metadata": {},
     "output_type": "execute_result"
    }
   ],
   "source": [
    "df_info.head()"
   ],
   "metadata": {
    "collapsed": false,
    "pycharm": {
     "name": "#%%\n"
    }
   }
  },
  {
   "cell_type": "code",
   "execution_count": 6,
   "outputs": [
    {
     "data": {
      "text/plain": "(2262, 5)"
     },
     "execution_count": 6,
     "metadata": {},
     "output_type": "execute_result"
    }
   ],
   "source": [
    "df_info.shape"
   ],
   "metadata": {
    "collapsed": false,
    "pycharm": {
     "name": "#%%\n"
    }
   }
  },
  {
   "cell_type": "markdown",
   "source": [
    "# Well on this dataframe we have some information about invalid values, let's use it to set as NaN values"
   ],
   "metadata": {
    "collapsed": false,
    "pycharm": {
     "name": "#%% md\n"
    }
   }
  },
  {
   "cell_type": "code",
   "execution_count": 7,
   "outputs": [],
   "source": [
    "#From analyses we create this null df\n",
    "nan_df = pd.read_csv(all_paths[16], index_col=None)"
   ],
   "metadata": {
    "collapsed": false,
    "pycharm": {
     "name": "#%%\n"
    }
   }
  },
  {
   "cell_type": "code",
   "execution_count": 8,
   "outputs": [],
   "source": [
    "nan_correct = nan_df[['Attribute', 'Value']]"
   ],
   "metadata": {
    "collapsed": false,
    "pycharm": {
     "name": "#%%\n"
    }
   }
  },
  {
   "cell_type": "code",
   "execution_count": 8,
   "outputs": [],
   "source": [],
   "metadata": {
    "collapsed": false,
    "pycharm": {
     "name": "#%%\n"
    }
   }
  },
  {
   "cell_type": "markdown",
   "source": [
    "#### Before start to clean up data let's try to find the feature importance using Catboost algorithm,\n",
    "#### For that we ll use another notebook catboost_try.ipynb, if we do here, ll be a mess."
   ],
   "metadata": {
    "collapsed": false,
    "pycharm": {
     "name": "#%% md\n"
    }
   }
  },
  {
   "cell_type": "markdown",
   "source": [
    "### Now we created file with info from an attribute dataframe, that file ll help us to set unknown data as Nan"
   ],
   "metadata": {
    "collapsed": false,
    "pycharm": {
     "name": "#%% md\n"
    }
   }
  },
  {
   "cell_type": "markdown",
   "source": [
    "## We ll remove all columns are not in both information and attributes datasets, and also choose a Nan threshold\n",
    "### Let's create a wrangler file to help us"
   ],
   "metadata": {
    "collapsed": false,
    "pycharm": {
     "name": "#%% md\n"
    }
   }
  },
  {
   "cell_type": "markdown",
   "source": [
    "## Time to use the DvC to make versioning of dataframes\n"
   ],
   "metadata": {
    "collapsed": false,
    "pycharm": {
     "name": "#%% md\n"
    }
   }
  },
  {
   "cell_type": "code",
   "execution_count": 9,
   "outputs": [],
   "source": [
    "customers_df = load_customers(all_paths[1])"
   ],
   "metadata": {
    "collapsed": false,
    "pycharm": {
     "name": "#%%\n"
    }
   }
  },
  {
   "cell_type": "code",
   "execution_count": 10,
   "outputs": [],
   "source": [
    "azdias_df = load_azdias(all_paths[0])"
   ],
   "metadata": {
    "collapsed": false,
    "pycharm": {
     "name": "#%%\n"
    }
   }
  },
  {
   "cell_type": "code",
   "execution_count": 11,
   "outputs": [],
   "source": [
    "test_df, label_kaggle = load_test_file(all_paths[17])"
   ],
   "metadata": {
    "collapsed": false,
    "pycharm": {
     "name": "#%%\n"
    }
   }
  },
  {
   "cell_type": "code",
   "execution_count": 12,
   "outputs": [],
   "source": [
    "argument_dict = {'azdias':azdias_df,'customers_df':customers_df, 'test_file': test_df}"
   ],
   "metadata": {
    "collapsed": false,
    "pycharm": {
     "name": "#%%\n"
    }
   }
  },
  {
   "cell_type": "markdown",
   "source": [
    "### We create a good pipeline to Clean up data\n",
    "1- We remove any column we dont have information\n",
    "2 - We took previous null values and set it as NaN\n",
    "3 - Remove columns with nan more than the threshold we previously defined\n"
   ],
   "metadata": {
    "collapsed": false,
    "pycharm": {
     "name": "#%% md\n"
    }
   }
  },
  {
   "cell_type": "code",
   "execution_count": 13,
   "outputs": [],
   "source": [
    "from process_and_ml.data_wrangler import CleanUp"
   ],
   "metadata": {
    "collapsed": false,
    "pycharm": {
     "name": "#%%\n"
    }
   }
  },
  {
   "cell_type": "code",
   "execution_count": 14,
   "outputs": [
    {
     "name": "stderr",
     "output_type": "stream",
     "text": [
      "UserWarning: Distributing <class 'list'> object. This may take some time.\n"
     ]
    }
   ],
   "source": [
    "clean_up = CleanUp(all_paths)"
   ],
   "metadata": {
    "collapsed": false,
    "pycharm": {
     "name": "#%%\n"
    }
   }
  },
  {
   "cell_type": "code",
   "execution_count": 15,
   "outputs": [
    {
     "name": "stdout",
     "output_type": "stream",
     "text": [
      "                      Unnamed: 0.1  Value  TestDvC\n",
      "Attribute                                         \n",
      "AGER_TYP                         1     -1        2\n",
      "ALTERSKATEGORIE_GROB             6  -1, 0        2\n",
      "ANREDE_KZ                       34  -1, 0        2\n",
      "BALLRAUM                        41     -1        2\n",
      "BIP_FLAG                        49     -1        2\n"
     ]
    },
    {
     "name": "stderr",
     "output_type": "stream",
     "text": [
      "UserWarning: `DataFrame.to_dict` defaulting to pandas implementation.\n",
      "To request implementation, send an email to feature_requests@modin.org.\n"
     ]
    }
   ],
   "source": [
    "dfs_dict = clean_up.pipeline_clean_up(argument_dict,unknowns_df=all_paths[16], info_df=all_paths[23],attr_df=all_paths[22])\n"
   ],
   "metadata": {
    "collapsed": false,
    "pycharm": {
     "name": "#%%\n"
    }
   }
  },
  {
   "cell_type": "code",
   "execution_count": 16,
   "outputs": [
    {
     "data": {
      "text/plain": "      LNR  AGER_TYP  AKT_DAT_KL  ALTER_HH  ALTER_KIND1  ALTER_KIND2  \\\n0  910215       NaN         NaN       NaN          NaN          NaN   \n1  910220       NaN         9.0       NaN          NaN          NaN   \n2  910225       NaN         9.0      17.0          NaN          NaN   \n3  910226       2.0         1.0      13.0          NaN          NaN   \n4  910241       NaN         1.0      20.0          NaN          NaN   \n\n   ALTER_KIND3  ALTER_KIND4  ALTERSKATEGORIE_FEIN  ANZ_HAUSHALTE_AKTIV  \\\n0          NaN          NaN                   NaN                  NaN   \n1          NaN          NaN                  21.0                 11.0   \n2          NaN          NaN                  17.0                 10.0   \n3          NaN          NaN                  13.0                  1.0   \n4          NaN          NaN                  14.0                  3.0   \n\n   ANZ_HH_TITEL  ANZ_KINDER  ANZ_PERSONEN  ANZ_STATISTISCHE_HAUSHALTE  \\\n0           NaN         NaN           NaN                         NaN   \n1           NaN         NaN           2.0                        12.0   \n2           NaN         NaN           1.0                         7.0   \n3           NaN         NaN           NaN                         2.0   \n4           NaN         NaN           4.0                         3.0   \n\n   ANZ_TITEL  ARBEIT  BALLRAUM CAMEO_DEU_2015  CAMEO_DEUG_2015  \\\n0        NaN     NaN       NaN            NaN              NaN   \n1        NaN     3.0       6.0             8A              8.0   \n2        NaN     3.0       2.0             4C              4.0   \n3        NaN     2.0       4.0             2A              2.0   \n4        NaN     4.0       2.0             6B              6.0   \n\n   CAMEO_DEUINTL_2015  CJT_GESAMTTYP  CJT_KATALOGNUTZER  CJT_TYP_1  CJT_TYP_2  \\\n0                 NaN            2.0                5.0        1.0        1.0   \n1                51.0            5.0                1.0        5.0        5.0   \n2                24.0            3.0                2.0        4.0        4.0   \n3                12.0            2.0                3.0        2.0        2.0   \n4                43.0            5.0                3.0        3.0        3.0   \n\n   CJT_TYP_3  CJT_TYP_4  CJT_TYP_5  CJT_TYP_6  D19_BANKEN_ANZ_12  \\\n0        5.0        5.0        5.0        5.0                NaN   \n1        2.0        3.0        1.0        1.0                NaN   \n2        1.0        3.0        2.0        2.0                NaN   \n3        4.0        4.0        5.0        3.0                NaN   \n4        3.0        4.0        3.0        3.0                3.0   \n\n   D19_BANKEN_ANZ_24  D19_BANKEN_DATUM  D19_BANKEN_DIREKT  D19_BANKEN_GROSS  \\\n0                NaN                10                NaN               NaN   \n1                NaN                10                NaN               NaN   \n2                NaN                10                NaN               NaN   \n3                NaN                10                NaN               NaN   \n4                5.0                 5                1.0               2.0   \n\n   D19_BANKEN_LOKAL  D19_BANKEN_OFFLINE_DATUM  D19_BANKEN_ONLINE_DATUM  \\\n0               NaN                        10                       10   \n1               NaN                        10                       10   \n2               NaN                        10                       10   \n3               NaN                        10                       10   \n4               NaN                        10                        5   \n\n   D19_BANKEN_ONLINE_QUOTE_12  D19_BANKEN_REST  D19_BEKLEIDUNG_GEH  \\\n0                         NaN              NaN                 NaN   \n1                         NaN              NaN                 NaN   \n2                         NaN              NaN                 NaN   \n3                         NaN              NaN                 NaN   \n4                        10.0              6.0                 6.0   \n\n   D19_BEKLEIDUNG_REST  D19_BILDUNG  D19_BIO_OEKO  D19_BUCH_CD  \\\n0                  NaN          NaN           NaN          NaN   \n1                  NaN          NaN           NaN          NaN   \n2                  NaN          6.0           NaN          NaN   \n3                  NaN          NaN           NaN          6.0   \n4                  1.0          6.0           NaN          6.0   \n\n   D19_DIGIT_SERV  D19_DROGERIEARTIKEL  D19_ENERGIE  D19_FREIZEIT  D19_GARTEN  \\\n0             NaN                  NaN          NaN           NaN         NaN   \n1             NaN                  NaN          NaN           NaN         NaN   \n2             NaN                  NaN          NaN           NaN         NaN   \n3             NaN                  NaN          NaN           NaN         NaN   \n4             NaN                  1.0          5.0           NaN         NaN   \n\n   D19_GESAMT_ANZ_12  D19_GESAMT_ANZ_24  D19_GESAMT_DATUM  \\\n0                NaN                NaN                10   \n1                NaN                NaN                10   \n2                NaN                NaN                10   \n3                NaN                NaN                10   \n4                6.0                6.0                 1   \n\n   D19_GESAMT_OFFLINE_DATUM  D19_GESAMT_ONLINE_DATUM  \\\n0                        10                       10   \n1                        10                       10   \n2                        10                       10   \n3                        10                       10   \n4                         6                        1   \n\n   D19_GESAMT_ONLINE_QUOTE_12  D19_HANDWERK  D19_HAUS_DEKO  D19_KINDERARTIKEL  \\\n0                         NaN           NaN            NaN                NaN   \n1                         NaN           NaN            NaN                NaN   \n2                         NaN           NaN            NaN                NaN   \n3                         NaN           NaN            NaN                NaN   \n4                        10.0           NaN            5.0                NaN   \n\n   D19_KONSUMTYP  D19_KONSUMTYP_MAX  D19_KOSMETIK  D19_LEBENSMITTEL  \\\n0            NaN                  9           NaN               NaN   \n1            NaN                  9           NaN               NaN   \n2            9.0                  8           6.0               NaN   \n3            9.0                  8           NaN               NaN   \n4            1.0                  1           NaN               NaN   \n\n  D19_LETZTER_KAUF_BRANCHE  D19_LOTTO  D19_NAHRUNGSERGAENZUNG  D19_RATGEBER  \\\n0                      NaN        NaN                     NaN           NaN   \n1                      NaN        NaN                     NaN           NaN   \n2            D19_UNBEKANNT        NaN                     NaN           NaN   \n3            D19_UNBEKANNT        NaN                     NaN           NaN   \n4               D19_SCHUHE        NaN                     NaN           NaN   \n\n   D19_REISEN  D19_SAMMELARTIKEL  D19_SCHUHE  D19_SONSTIGE  D19_SOZIALES  \\\n0         NaN                NaN         NaN           NaN           NaN   \n1         NaN                NaN         NaN           NaN           NaN   \n2         NaN                NaN         NaN           6.0           NaN   \n3         6.0                6.0         NaN           6.0           NaN   \n4         NaN                NaN         1.0           4.0           NaN   \n\n   D19_TECHNIK  D19_TELKO_ANZ_12  D19_TELKO_ANZ_24  D19_TELKO_DATUM  \\\n0          NaN               NaN               NaN               10   \n1          NaN               NaN               NaN               10   \n2          6.0               NaN               NaN               10   \n3          6.0               NaN               NaN               10   \n4          5.0               NaN               1.0                6   \n\n   D19_TELKO_MOBILE  D19_TELKO_OFFLINE_DATUM  D19_TELKO_ONLINE_DATUM  \\\n0               NaN                       10                      10   \n1               NaN                       10                      10   \n2               NaN                       10                      10   \n3               NaN                       10                      10   \n4               6.0                        8                      10   \n\n   D19_TELKO_ONLINE_QUOTE_12  D19_TELKO_REST  D19_TIERARTIKEL  \\\n0                        NaN             NaN              NaN   \n1                        NaN             NaN              NaN   \n2                        NaN             NaN              NaN   \n3                        NaN             NaN              NaN   \n4                        NaN             5.0              NaN   \n\n   D19_VERSAND_ANZ_12  D19_VERSAND_ANZ_24  D19_VERSAND_DATUM  \\\n0                 NaN                 NaN                 10   \n1                 NaN                 NaN                 10   \n2                 NaN                 NaN                 10   \n3                 NaN                 NaN                 10   \n4                 6.0                 6.0                  1   \n\n   D19_VERSAND_OFFLINE_DATUM  D19_VERSAND_ONLINE_DATUM  \\\n0                         10                        10   \n1                         10                        10   \n2                         10                        10   \n3                         10                        10   \n4                          9                         1   \n\n   D19_VERSAND_ONLINE_QUOTE_12  D19_VERSAND_REST  D19_VERSI_ANZ_12  \\\n0                          NaN               NaN               NaN   \n1                          NaN               NaN               NaN   \n2                          NaN               NaN               NaN   \n3                          NaN               NaN               NaN   \n4                         10.0               2.0               1.0   \n\n   D19_VERSI_ANZ_24  D19_VERSI_DATUM  D19_VERSI_OFFLINE_DATUM  \\\n0               NaN               10                       10   \n1               NaN               10                       10   \n2               NaN               10                       10   \n3               NaN               10                       10   \n4               3.0                2                        7   \n\n   D19_VERSI_ONLINE_DATUM  D19_VERSI_ONLINE_QUOTE_12  D19_VERSICHERUNGEN  \\\n0                      10                        NaN                 NaN   \n1                      10                        NaN                 NaN   \n2                      10                        NaN                 NaN   \n3                      10                        NaN                 NaN   \n4                      10                        NaN                 3.0   \n\n   D19_VOLLSORTIMENT  D19_WEIN_FEINKOST  DSL_FLAG        EINGEFUEGT_AM  \\\n0                NaN                NaN       NaN                  NaN   \n1                NaN                NaN       1.0  1992-02-10 00:00:00   \n2                7.0                NaN       1.0  1992-02-12 00:00:00   \n3                NaN                NaN       1.0  1997-04-21 00:00:00   \n4                NaN                NaN       1.0  1992-02-12 00:00:00   \n\n   EINGEZOGENAM_HH_JAHR  EWDICHTE  EXTSEL992  FINANZ_ANLEGER  \\\n0                   NaN       NaN        NaN               5   \n1                2004.0       3.0        NaN               5   \n2                2000.0       4.0       14.0               2   \n3                1998.0       2.0       31.0               2   \n4                2004.0       5.0        NaN               1   \n\n   FINANZ_HAUSBAUER  FINANZ_MINIMALIST  FINANZ_SPARER  FINANZ_UNAUFFAELLIGER  \\\n0                 3                  3              4                      5   \n1                 5                  1              5                      4   \n2                 5                  1              4                      3   \n3                 2                  4              2                      1   \n4                 2                  4              3                      3   \n\n   FINANZ_VORSORGER  FINANZTYP  FIRMENDICHTE  GEBAEUDETYP  GEBAEUDETYP_RASTER  \\\n0                 3          4           NaN          NaN                 NaN   \n1                 2          1           2.0          8.0                 3.0   \n2                 1          1           4.0          1.0                 4.0   \n3                 5          6           4.0          1.0                 4.0   \n4                 4          5           5.0          1.0                 5.0   \n\n   GEBURTSJAHR  GEMEINDETYP  GFK_URLAUBERTYP  GREEN_AVANTGARDE  HEALTH_TYP  \\\n0          NaN          NaN             10.0               NaN         NaN   \n1       1996.0         22.0             10.0               NaN         3.0   \n2       1979.0         22.0             10.0               1.0         3.0   \n3       1957.0         40.0              1.0               NaN         2.0   \n4       1963.0         21.0              5.0               NaN         3.0   \n\n   HH_DELTA_FLAG  HH_EINKOMMEN_SCORE  INNENSTADT  KBA05_ALTER1  KBA05_ALTER2  \\\n0            NaN                 2.0         NaN           NaN           NaN   \n1            NaN                 6.0         8.0           3.0           4.0   \n2            NaN                 4.0         4.0           2.0           3.0   \n3            NaN                 1.0         6.0           2.0           5.0   \n4            NaN                 5.0         1.0           NaN           4.0   \n\n   KBA05_ALTER3  KBA05_ALTER4  KBA05_ANHANG  KBA05_ANTG1  KBA05_ANTG2  \\\n0           NaN           NaN           NaN          NaN          NaN   \n1           1.0           4.0           NaN          NaN          NaN   \n2           3.0           3.0           NaN          1.0          3.0   \n3           3.0           NaN           1.0          4.0          1.0   \n4           4.0           3.0           NaN          1.0          4.0   \n\n   KBA05_ANTG3  KBA05_ANTG4  KBA05_AUTOQUOT  KBA05_BAUMAX  KBA05_CCM1  \\\n0          NaN          NaN             NaN           NaN         NaN   \n1          NaN          2.0             1.0           5.0         1.0   \n2          1.0          NaN             3.0           NaN         5.0   \n3          NaN          NaN             4.0           1.0         2.0   \n4          1.0          NaN             3.0           NaN         4.0   \n\n   KBA05_CCM2  KBA05_CCM3  KBA05_CCM4  KBA05_DIESEL  KBA05_FRAU  KBA05_GBZ  \\\n0         NaN         NaN         NaN           NaN         NaN        NaN   \n1         5.0         1.0         4.0           2.0         4.0        1.0   \n2         2.0         3.0         NaN           NaN         3.0        3.0   \n3         3.0         5.0         1.0           3.0         4.0        4.0   \n4         1.0         4.0         2.0           1.0         5.0        3.0   \n\n   KBA05_HERST1  KBA05_HERST2  KBA05_HERST3  KBA05_HERST4  KBA05_HERST5  \\\n0           NaN           NaN           NaN           NaN           NaN   \n1           5.0           5.0           2.0           2.0           NaN   \n2           2.0           2.0           3.0           2.0           5.0   \n3           4.0           3.0           3.0           2.0           3.0   \n4           2.0           2.0           4.0           1.0           4.0   \n\n   KBA05_HERSTTEMP  KBA05_KRSAQUOT  KBA05_KRSHERST1  KBA05_KRSHERST2  \\\n0              NaN             NaN              NaN              NaN   \n1              4.0             1.0              5.0              4.0   \n2              4.0             3.0              3.0              2.0   \n3              3.0             4.0              4.0              2.0   \n4              3.0             3.0              3.0              3.0   \n\n   KBA05_KRSHERST3  KBA05_KRSKLEIN  KBA05_KRSOBER  KBA05_KRSVAN  ...  \\\n0              NaN             NaN            NaN           NaN  ...   \n1              2.0             1.0            2.0           1.0  ...   \n2              3.0             3.0            2.0           2.0  ...   \n3              3.0             1.0            2.0           2.0  ...   \n4              3.0             2.0            2.0           3.0  ...   \n\n   KBA13_FAB_ASIEN  KBA13_FAB_SONSTIGE  KBA13_FIAT  KBA13_FORD  KBA13_GBZ  \\\n0              NaN                 NaN         NaN         NaN        NaN   \n1              2.0                 3.0         4.0         2.0        4.0   \n2              4.0                 3.0         3.0         4.0        4.0   \n3              3.0                 2.0         3.0         3.0        4.0   \n4              3.0                 2.0         3.0         4.0        3.0   \n\n   KBA13_HALTER_20  KBA13_HALTER_25  KBA13_HALTER_30  KBA13_HALTER_35  \\\n0              NaN              NaN              NaN              NaN   \n1              3.0              3.0              3.0              3.0   \n2              3.0              3.0              2.0              2.0   \n3              2.0              2.0              2.0              3.0   \n4              3.0              3.0              3.0              3.0   \n\n   KBA13_HALTER_40  KBA13_HALTER_45  KBA13_HALTER_50  KBA13_HALTER_55  \\\n0              NaN              NaN              NaN              NaN   \n1              3.0              2.0              2.0              3.0   \n2              2.0              3.0              3.0              3.0   \n3              3.0              3.0              5.0              5.0   \n4              3.0              3.0              4.0              4.0   \n\n   KBA13_HALTER_60  KBA13_HALTER_65  KBA13_HALTER_66  KBA13_HERST_ASIEN  \\\n0              NaN              NaN              NaN                NaN   \n1              3.0              3.0              4.0                1.0   \n2              3.0              4.0              3.0                3.0   \n3              4.0              3.0              2.0                3.0   \n4              2.0              3.0              3.0                3.0   \n\n   KBA13_HERST_AUDI_VW  KBA13_HERST_BMW_BENZ  KBA13_HERST_EUROPA  \\\n0                  NaN                   NaN                 NaN   \n1                  4.0                   4.0                 4.0   \n2                  2.0                   4.0                 3.0   \n3                  4.0                   3.0                 2.0   \n4                  4.0                   3.0                 4.0   \n\n   KBA13_HERST_FORD_OPEL  KBA13_HERST_SONST  KBA13_HHZ  KBA13_KMH_0_140  \\\n0                    NaN                NaN        NaN              NaN   \n1                    2.0                3.0        5.0              3.0   \n2                    3.0                3.0        4.0              1.0   \n3                    2.0                2.0        3.0              5.0   \n4                    3.0                2.0        3.0              5.0   \n\n   KBA13_KMH_110  KBA13_KMH_140  KBA13_KMH_140_210  KBA13_KMH_180  \\\n0            NaN            NaN                NaN            NaN   \n1            1.0            3.0                3.0            2.0   \n2            1.0            1.0                2.0            2.0   \n3            1.0            5.0                1.0            2.0   \n4            1.0            5.0                1.0            1.0   \n\n   KBA13_KMH_210  KBA13_KMH_211  KBA13_KMH_250  KBA13_KMH_251  KBA13_KRSAQUOT  \\\n0            NaN            NaN            NaN            NaN             NaN   \n1            4.0            3.0            3.0            1.0             2.0   \n2            4.0            4.0            4.0            1.0             3.0   \n3            2.0            5.0            5.0            1.0             3.0   \n4            3.0            5.0            5.0            1.0             3.0   \n\n   KBA13_KRSHERST_AUDI_VW  KBA13_KRSHERST_BMW_BENZ  KBA13_KRSHERST_FORD_OPEL  \\\n0                     NaN                      NaN                       NaN   \n1                     4.0                      3.0                       3.0   \n2                     3.0                      3.0                       2.0   \n3                     4.0                      4.0                       2.0   \n4                     4.0                      3.0                       2.0   \n\n   KBA13_KRSSEG_KLEIN  KBA13_KRSSEG_OBER  KBA13_KRSSEG_VAN  KBA13_KRSZUL_NEU  \\\n0                 NaN                NaN               NaN               NaN   \n1                 2.0                2.0               2.0               1.0   \n2                 2.0                3.0               2.0               1.0   \n3                 2.0                2.0               2.0               2.0   \n4                 2.0                2.0               1.0               3.0   \n\n   KBA13_KW_0_60  KBA13_KW_110  KBA13_KW_120  KBA13_KW_121  KBA13_KW_30  \\\n0            NaN           NaN           NaN           NaN          NaN   \n1            3.0           4.0           4.0           3.0          1.0   \n2            1.0           3.0           4.0           4.0          1.0   \n3            3.0           1.0           3.0           5.0          1.0   \n4            3.0           3.0           1.0           5.0          1.0   \n\n   KBA13_KW_40  KBA13_KW_50  KBA13_KW_60  KBA13_KW_61_120  KBA13_KW_70  \\\n0          NaN          NaN          NaN              NaN          NaN   \n1          2.0          4.0          NaN              3.0          1.0   \n2          1.0          2.0          1.0              5.0          4.0   \n3          4.0          3.0          2.0              2.0          3.0   \n4          5.0          3.0          NaN              2.0          2.0   \n\n   KBA13_KW_80  KBA13_KW_90  KBA13_MAZDA  KBA13_MERCEDES  KBA13_MOTOR  \\\n0          NaN          NaN          NaN             NaN          NaN   \n1          2.0          3.0          2.0             4.0          3.0   \n2          4.0          2.0          3.0             4.0          3.0   \n3          2.0          3.0          2.0             3.0          3.0   \n4          1.0          3.0          3.0             3.0          4.0   \n\n   KBA13_NISSAN  KBA13_OPEL  KBA13_PEUGEOT  KBA13_RENAULT  \\\n0           NaN         NaN            NaN            NaN   \n1           2.0         3.0            4.0            3.0   \n2           3.0         2.0            3.0            3.0   \n3           5.0         2.0            3.0            2.0   \n4           4.0         3.0            3.0            4.0   \n\n   KBA13_SEG_GELAENDEWAGEN  KBA13_SEG_GROSSRAUMVANS  KBA13_SEG_KLEINST  \\\n0                      NaN                      NaN                NaN   \n1                      2.0                      3.0                2.0   \n2                      5.0                      3.0                3.0   \n3                      3.0                      4.0                3.0   \n4                      3.0                      3.0                3.0   \n\n   KBA13_SEG_KLEINWAGEN  KBA13_SEG_KOMPAKTKLASSE  KBA13_SEG_MINIVANS  \\\n0                   NaN                      NaN                 NaN   \n1                   2.0                      5.0                 4.0   \n2                   3.0                      1.0                 3.0   \n3                   3.0                      4.0                 4.0   \n4                   3.0                      3.0                 2.0   \n\n   KBA13_SEG_MINIWAGEN  KBA13_SEG_MITTELKLASSE  KBA13_SEG_OBEREMITTELKLASSE  \\\n0                  NaN                     NaN                          NaN   \n1                  2.0                     3.0                          3.0   \n2                  3.0                     2.0                          4.0   \n3                  3.0                     4.0                          3.0   \n4                  3.0                     2.0                          4.0   \n\n   KBA13_SEG_OBERKLASSE  KBA13_SEG_SONSTIGE  KBA13_SEG_SPORTWAGEN  \\\n0                   NaN                 NaN                   NaN   \n1                   3.0                 2.0                   3.0   \n2                   3.0                 2.0                   4.0   \n3                   1.0                 2.0                   3.0   \n4                   4.0                 5.0                   4.0   \n\n   KBA13_SEG_UTILITIES  KBA13_SEG_VAN  KBA13_SEG_WOHNMOBILE  KBA13_SITZE_4  \\\n0                  NaN            NaN                   NaN            NaN   \n1                  3.0            4.0                   2.0            3.0   \n2                  5.0            3.0                   2.0            4.0   \n3                  2.0            4.0                   2.0            3.0   \n4                  2.0            2.0                   5.0            3.0   \n\n   KBA13_SITZE_5  KBA13_SITZE_6  KBA13_TOYOTA  KBA13_VORB_0  KBA13_VORB_1  \\\n0            NaN            NaN           NaN           NaN           NaN   \n1            3.0            4.0           2.0           3.0           3.0   \n2            2.0            3.0           3.0           3.0           4.0   \n3            3.0            3.0           3.0           4.0           3.0   \n4            3.0            3.0           3.0           4.0           2.0   \n\n   KBA13_VORB_1_2  KBA13_VORB_2  KBA13_VORB_3  KBA13_VW  KK_KUNDENTYP  KKK  \\\n0             NaN           NaN           NaN       NaN           NaN  NaN   \n1             3.0           3.0           3.0       4.0           NaN  2.0   \n2             4.0           2.0           2.0       2.0           NaN  2.0   \n3             2.0           3.0           2.0       4.0           NaN  NaN   \n4             2.0           3.0           4.0       3.0           1.0  3.0   \n\n   KOMBIALTER  KONSUMNAEHE  KONSUMZELLE  LP_FAMILIE_FEIN  LP_FAMILIE_GROB  \\\n0           9          NaN          NaN              2.0              2.0   \n1           1          1.0          1.0              5.0              3.0   \n2           2          5.0          NaN              1.0              1.0   \n3           4          4.0          NaN              NaN              NaN   \n4           3          4.0          NaN             10.0              5.0   \n\n   LP_LEBENSPHASE_FEIN  LP_LEBENSPHASE_GROB  LP_STATUS_FEIN  LP_STATUS_GROB  \\\n0                 15.0                  4.0             1.0             1.0   \n1                 21.0                  6.0             2.0             1.0   \n2                  3.0                  1.0             3.0             2.0   \n3                  NaN                  NaN             9.0             4.0   \n4                 32.0                 10.0             3.0             2.0   \n\n   MIN_GEBAEUDEJAHR  MOBI_RASTER  MOBI_REGIO  NATIONALITAET_KZ  \\\n0               NaN          NaN         NaN               NaN   \n1            1992.0          1.0         1.0               1.0   \n2            1992.0          2.0         3.0               1.0   \n3            1997.0          4.0         4.0               1.0   \n4            1992.0          1.0         3.0               1.0   \n\n   ONLINE_AFFINITAET  ORTSGR_KLS9  OST_WEST_KZ  PLZ8_ANTG1 PLZ8_ANTG2  \\\n0                1.0          NaN          NaN         NaN        NaN   \n1                3.0          5.0            W         2.0        3.0   \n2                2.0          5.0            W         3.0        3.0   \n3                1.0          3.0            W         2.0        2.0   \n4                5.0          6.0            W         2.0        4.0   \n\n   PLZ8_ANTG3  PLZ8_ANTG4  PLZ8_BAUMAX  PLZ8_GBZ  PLZ8_HHZ  \\\n0         NaN         NaN          NaN       NaN       NaN   \n1         2.0         1.0          1.0       4.0       5.0   \n2         1.0         NaN          1.0       4.0       4.0   \n3         2.0         NaN          1.0       4.0       3.0   \n4         2.0         1.0          2.0       3.0       3.0   \n\n   PRAEGENDE_JUGENDJAHRE  REGIOTYP  RELAT_AB  RETOURTYP_BK_S  RT_KEIN_ANREIZ  \\\n0                    NaN       NaN       NaN             5.0             1.0   \n1                   14.0       3.0       4.0             1.0             5.0   \n2                   15.0       2.0       2.0             3.0             5.0   \n3                    8.0       NaN       3.0             2.0             3.0   \n4                    8.0       5.0       5.0             5.0             3.0   \n\n   RT_SCHNAEPPCHEN  RT_UEBERGROESSE  SEMIO_DOM  SEMIO_ERL  SEMIO_FAM  \\\n0              4.0              1.0          6          3          6   \n1              3.0              5.0          7          2          4   \n2              4.0              5.0          7          6          1   \n3              2.0              3.0          4          7          1   \n4              5.0              5.0          2          4          4   \n\n   SEMIO_KAEM  SEMIO_KRIT  SEMIO_KULT  SEMIO_LUST  SEMIO_MAT  SEMIO_PFLICHT  \\\n0           6           7           3           5          5              5   \n1           4           4           3           2          3              7   \n2           7           7           3           4          3              3   \n3           5           4           4           4          1              4   \n4           2           3           6           4          2              4   \n\n   SEMIO_RAT  SEMIO_REL  SEMIO_SOZ  SEMIO_TRADV  SEMIO_VERT  SHOPPER_TYP  \\\n0          4          7          2            3           1          NaN   \n1          6          4          5            6           1          3.0   \n2          4          3          4            3           4          2.0   \n3          3          2          5            4           4          1.0   \n4          2          4          6            2           7          2.0   \n\n   SOHO_KZ  STRUKTURTYP  TITEL_KZ  UMFELD_ALT  UMFELD_JUNG  UNGLEICHENN_FLAG  \\\n0      NaN          NaN       NaN         NaN          NaN               NaN   \n1      1.0          2.0       NaN         3.0          3.0               1.0   \n2      NaN          3.0       NaN         2.0          5.0               NaN   \n3      NaN          1.0       NaN         4.0          5.0               NaN   \n4      NaN          3.0       NaN         4.0          3.0               NaN   \n\n   VERDICHTUNGSRAUM  VERS_TYP  VHA  VHN  VK_DHT4A  VK_DISTANZ  VK_ZG11  \\\n0               NaN       NaN  NaN  NaN       NaN         NaN      NaN   \n1               NaN       2.0  NaN  4.0       8.0        11.0     10.0   \n2               1.0       1.0  NaN  2.0       9.0         9.0      6.0   \n3               NaN       1.0  1.0  NaN       7.0        10.0     11.0   \n4               1.0       2.0  NaN  2.0       3.0         5.0      4.0   \n\n   W_KEIT_KIND_HH  WOHNDAUER_2008  WOHNLAGE  ZABEOTYP  ANREDE_KZ  \\\n0             NaN             NaN       NaN         3          1   \n1             3.0             9.0       4.0         5          2   \n2             3.0             9.0       2.0         5          2   \n3             NaN             9.0       7.0         3          2   \n4             2.0             9.0       3.0         4          1   \n\n   ALTERSKATEGORIE_GROB  \n0                     2  \n1                     1  \n2                     3  \n3                     4  \n4                     3  \n\n[5 rows x 366 columns]",
      "text/html": "<div>\n<style scoped>\n    .dataframe tbody tr th:only-of-type {\n        vertical-align: middle;\n    }\n\n    .dataframe tbody tr th {\n        vertical-align: top;\n    }\n\n    .dataframe thead th {\n        text-align: right;\n    }\n</style>\n<table border=\"1\" class=\"dataframe\">\n  <thead>\n    <tr style=\"text-align: right;\">\n      <th></th>\n      <th>LNR</th>\n      <th>AGER_TYP</th>\n      <th>AKT_DAT_KL</th>\n      <th>ALTER_HH</th>\n      <th>ALTER_KIND1</th>\n      <th>ALTER_KIND2</th>\n      <th>ALTER_KIND3</th>\n      <th>ALTER_KIND4</th>\n      <th>ALTERSKATEGORIE_FEIN</th>\n      <th>ANZ_HAUSHALTE_AKTIV</th>\n      <th>ANZ_HH_TITEL</th>\n      <th>ANZ_KINDER</th>\n      <th>ANZ_PERSONEN</th>\n      <th>ANZ_STATISTISCHE_HAUSHALTE</th>\n      <th>ANZ_TITEL</th>\n      <th>ARBEIT</th>\n      <th>BALLRAUM</th>\n      <th>CAMEO_DEU_2015</th>\n      <th>CAMEO_DEUG_2015</th>\n      <th>CAMEO_DEUINTL_2015</th>\n      <th>CJT_GESAMTTYP</th>\n      <th>CJT_KATALOGNUTZER</th>\n      <th>CJT_TYP_1</th>\n      <th>CJT_TYP_2</th>\n      <th>CJT_TYP_3</th>\n      <th>CJT_TYP_4</th>\n      <th>CJT_TYP_5</th>\n      <th>CJT_TYP_6</th>\n      <th>D19_BANKEN_ANZ_12</th>\n      <th>D19_BANKEN_ANZ_24</th>\n      <th>D19_BANKEN_DATUM</th>\n      <th>D19_BANKEN_DIREKT</th>\n      <th>D19_BANKEN_GROSS</th>\n      <th>D19_BANKEN_LOKAL</th>\n      <th>D19_BANKEN_OFFLINE_DATUM</th>\n      <th>D19_BANKEN_ONLINE_DATUM</th>\n      <th>D19_BANKEN_ONLINE_QUOTE_12</th>\n      <th>D19_BANKEN_REST</th>\n      <th>D19_BEKLEIDUNG_GEH</th>\n      <th>D19_BEKLEIDUNG_REST</th>\n      <th>D19_BILDUNG</th>\n      <th>D19_BIO_OEKO</th>\n      <th>D19_BUCH_CD</th>\n      <th>D19_DIGIT_SERV</th>\n      <th>D19_DROGERIEARTIKEL</th>\n      <th>D19_ENERGIE</th>\n      <th>D19_FREIZEIT</th>\n      <th>D19_GARTEN</th>\n      <th>D19_GESAMT_ANZ_12</th>\n      <th>D19_GESAMT_ANZ_24</th>\n      <th>D19_GESAMT_DATUM</th>\n      <th>D19_GESAMT_OFFLINE_DATUM</th>\n      <th>D19_GESAMT_ONLINE_DATUM</th>\n      <th>D19_GESAMT_ONLINE_QUOTE_12</th>\n      <th>D19_HANDWERK</th>\n      <th>D19_HAUS_DEKO</th>\n      <th>D19_KINDERARTIKEL</th>\n      <th>D19_KONSUMTYP</th>\n      <th>D19_KONSUMTYP_MAX</th>\n      <th>D19_KOSMETIK</th>\n      <th>D19_LEBENSMITTEL</th>\n      <th>D19_LETZTER_KAUF_BRANCHE</th>\n      <th>D19_LOTTO</th>\n      <th>D19_NAHRUNGSERGAENZUNG</th>\n      <th>D19_RATGEBER</th>\n      <th>D19_REISEN</th>\n      <th>D19_SAMMELARTIKEL</th>\n      <th>D19_SCHUHE</th>\n      <th>D19_SONSTIGE</th>\n      <th>D19_SOZIALES</th>\n      <th>D19_TECHNIK</th>\n      <th>D19_TELKO_ANZ_12</th>\n      <th>D19_TELKO_ANZ_24</th>\n      <th>D19_TELKO_DATUM</th>\n      <th>D19_TELKO_MOBILE</th>\n      <th>D19_TELKO_OFFLINE_DATUM</th>\n      <th>D19_TELKO_ONLINE_DATUM</th>\n      <th>D19_TELKO_ONLINE_QUOTE_12</th>\n      <th>D19_TELKO_REST</th>\n      <th>D19_TIERARTIKEL</th>\n      <th>D19_VERSAND_ANZ_12</th>\n      <th>D19_VERSAND_ANZ_24</th>\n      <th>D19_VERSAND_DATUM</th>\n      <th>D19_VERSAND_OFFLINE_DATUM</th>\n      <th>D19_VERSAND_ONLINE_DATUM</th>\n      <th>D19_VERSAND_ONLINE_QUOTE_12</th>\n      <th>D19_VERSAND_REST</th>\n      <th>D19_VERSI_ANZ_12</th>\n      <th>D19_VERSI_ANZ_24</th>\n      <th>D19_VERSI_DATUM</th>\n      <th>D19_VERSI_OFFLINE_DATUM</th>\n      <th>D19_VERSI_ONLINE_DATUM</th>\n      <th>D19_VERSI_ONLINE_QUOTE_12</th>\n      <th>D19_VERSICHERUNGEN</th>\n      <th>D19_VOLLSORTIMENT</th>\n      <th>D19_WEIN_FEINKOST</th>\n      <th>DSL_FLAG</th>\n      <th>EINGEFUEGT_AM</th>\n      <th>EINGEZOGENAM_HH_JAHR</th>\n      <th>EWDICHTE</th>\n      <th>EXTSEL992</th>\n      <th>FINANZ_ANLEGER</th>\n      <th>FINANZ_HAUSBAUER</th>\n      <th>FINANZ_MINIMALIST</th>\n      <th>FINANZ_SPARER</th>\n      <th>FINANZ_UNAUFFAELLIGER</th>\n      <th>FINANZ_VORSORGER</th>\n      <th>FINANZTYP</th>\n      <th>FIRMENDICHTE</th>\n      <th>GEBAEUDETYP</th>\n      <th>GEBAEUDETYP_RASTER</th>\n      <th>GEBURTSJAHR</th>\n      <th>GEMEINDETYP</th>\n      <th>GFK_URLAUBERTYP</th>\n      <th>GREEN_AVANTGARDE</th>\n      <th>HEALTH_TYP</th>\n      <th>HH_DELTA_FLAG</th>\n      <th>HH_EINKOMMEN_SCORE</th>\n      <th>INNENSTADT</th>\n      <th>KBA05_ALTER1</th>\n      <th>KBA05_ALTER2</th>\n      <th>KBA05_ALTER3</th>\n      <th>KBA05_ALTER4</th>\n      <th>KBA05_ANHANG</th>\n      <th>KBA05_ANTG1</th>\n      <th>KBA05_ANTG2</th>\n      <th>KBA05_ANTG3</th>\n      <th>KBA05_ANTG4</th>\n      <th>KBA05_AUTOQUOT</th>\n      <th>KBA05_BAUMAX</th>\n      <th>KBA05_CCM1</th>\n      <th>KBA05_CCM2</th>\n      <th>KBA05_CCM3</th>\n      <th>KBA05_CCM4</th>\n      <th>KBA05_DIESEL</th>\n      <th>KBA05_FRAU</th>\n      <th>KBA05_GBZ</th>\n      <th>KBA05_HERST1</th>\n      <th>KBA05_HERST2</th>\n      <th>KBA05_HERST3</th>\n      <th>KBA05_HERST4</th>\n      <th>KBA05_HERST5</th>\n      <th>KBA05_HERSTTEMP</th>\n      <th>KBA05_KRSAQUOT</th>\n      <th>KBA05_KRSHERST1</th>\n      <th>KBA05_KRSHERST2</th>\n      <th>KBA05_KRSHERST3</th>\n      <th>KBA05_KRSKLEIN</th>\n      <th>KBA05_KRSOBER</th>\n      <th>KBA05_KRSVAN</th>\n      <th>...</th>\n      <th>KBA13_FAB_ASIEN</th>\n      <th>KBA13_FAB_SONSTIGE</th>\n      <th>KBA13_FIAT</th>\n      <th>KBA13_FORD</th>\n      <th>KBA13_GBZ</th>\n      <th>KBA13_HALTER_20</th>\n      <th>KBA13_HALTER_25</th>\n      <th>KBA13_HALTER_30</th>\n      <th>KBA13_HALTER_35</th>\n      <th>KBA13_HALTER_40</th>\n      <th>KBA13_HALTER_45</th>\n      <th>KBA13_HALTER_50</th>\n      <th>KBA13_HALTER_55</th>\n      <th>KBA13_HALTER_60</th>\n      <th>KBA13_HALTER_65</th>\n      <th>KBA13_HALTER_66</th>\n      <th>KBA13_HERST_ASIEN</th>\n      <th>KBA13_HERST_AUDI_VW</th>\n      <th>KBA13_HERST_BMW_BENZ</th>\n      <th>KBA13_HERST_EUROPA</th>\n      <th>KBA13_HERST_FORD_OPEL</th>\n      <th>KBA13_HERST_SONST</th>\n      <th>KBA13_HHZ</th>\n      <th>KBA13_KMH_0_140</th>\n      <th>KBA13_KMH_110</th>\n      <th>KBA13_KMH_140</th>\n      <th>KBA13_KMH_140_210</th>\n      <th>KBA13_KMH_180</th>\n      <th>KBA13_KMH_210</th>\n      <th>KBA13_KMH_211</th>\n      <th>KBA13_KMH_250</th>\n      <th>KBA13_KMH_251</th>\n      <th>KBA13_KRSAQUOT</th>\n      <th>KBA13_KRSHERST_AUDI_VW</th>\n      <th>KBA13_KRSHERST_BMW_BENZ</th>\n      <th>KBA13_KRSHERST_FORD_OPEL</th>\n      <th>KBA13_KRSSEG_KLEIN</th>\n      <th>KBA13_KRSSEG_OBER</th>\n      <th>KBA13_KRSSEG_VAN</th>\n      <th>KBA13_KRSZUL_NEU</th>\n      <th>KBA13_KW_0_60</th>\n      <th>KBA13_KW_110</th>\n      <th>KBA13_KW_120</th>\n      <th>KBA13_KW_121</th>\n      <th>KBA13_KW_30</th>\n      <th>KBA13_KW_40</th>\n      <th>KBA13_KW_50</th>\n      <th>KBA13_KW_60</th>\n      <th>KBA13_KW_61_120</th>\n      <th>KBA13_KW_70</th>\n      <th>KBA13_KW_80</th>\n      <th>KBA13_KW_90</th>\n      <th>KBA13_MAZDA</th>\n      <th>KBA13_MERCEDES</th>\n      <th>KBA13_MOTOR</th>\n      <th>KBA13_NISSAN</th>\n      <th>KBA13_OPEL</th>\n      <th>KBA13_PEUGEOT</th>\n      <th>KBA13_RENAULT</th>\n      <th>KBA13_SEG_GELAENDEWAGEN</th>\n      <th>KBA13_SEG_GROSSRAUMVANS</th>\n      <th>KBA13_SEG_KLEINST</th>\n      <th>KBA13_SEG_KLEINWAGEN</th>\n      <th>KBA13_SEG_KOMPAKTKLASSE</th>\n      <th>KBA13_SEG_MINIVANS</th>\n      <th>KBA13_SEG_MINIWAGEN</th>\n      <th>KBA13_SEG_MITTELKLASSE</th>\n      <th>KBA13_SEG_OBEREMITTELKLASSE</th>\n      <th>KBA13_SEG_OBERKLASSE</th>\n      <th>KBA13_SEG_SONSTIGE</th>\n      <th>KBA13_SEG_SPORTWAGEN</th>\n      <th>KBA13_SEG_UTILITIES</th>\n      <th>KBA13_SEG_VAN</th>\n      <th>KBA13_SEG_WOHNMOBILE</th>\n      <th>KBA13_SITZE_4</th>\n      <th>KBA13_SITZE_5</th>\n      <th>KBA13_SITZE_6</th>\n      <th>KBA13_TOYOTA</th>\n      <th>KBA13_VORB_0</th>\n      <th>KBA13_VORB_1</th>\n      <th>KBA13_VORB_1_2</th>\n      <th>KBA13_VORB_2</th>\n      <th>KBA13_VORB_3</th>\n      <th>KBA13_VW</th>\n      <th>KK_KUNDENTYP</th>\n      <th>KKK</th>\n      <th>KOMBIALTER</th>\n      <th>KONSUMNAEHE</th>\n      <th>KONSUMZELLE</th>\n      <th>LP_FAMILIE_FEIN</th>\n      <th>LP_FAMILIE_GROB</th>\n      <th>LP_LEBENSPHASE_FEIN</th>\n      <th>LP_LEBENSPHASE_GROB</th>\n      <th>LP_STATUS_FEIN</th>\n      <th>LP_STATUS_GROB</th>\n      <th>MIN_GEBAEUDEJAHR</th>\n      <th>MOBI_RASTER</th>\n      <th>MOBI_REGIO</th>\n      <th>NATIONALITAET_KZ</th>\n      <th>ONLINE_AFFINITAET</th>\n      <th>ORTSGR_KLS9</th>\n      <th>OST_WEST_KZ</th>\n      <th>PLZ8_ANTG1</th>\n      <th>PLZ8_ANTG2</th>\n      <th>PLZ8_ANTG3</th>\n      <th>PLZ8_ANTG4</th>\n      <th>PLZ8_BAUMAX</th>\n      <th>PLZ8_GBZ</th>\n      <th>PLZ8_HHZ</th>\n      <th>PRAEGENDE_JUGENDJAHRE</th>\n      <th>REGIOTYP</th>\n      <th>RELAT_AB</th>\n      <th>RETOURTYP_BK_S</th>\n      <th>RT_KEIN_ANREIZ</th>\n      <th>RT_SCHNAEPPCHEN</th>\n      <th>RT_UEBERGROESSE</th>\n      <th>SEMIO_DOM</th>\n      <th>SEMIO_ERL</th>\n      <th>SEMIO_FAM</th>\n      <th>SEMIO_KAEM</th>\n      <th>SEMIO_KRIT</th>\n      <th>SEMIO_KULT</th>\n      <th>SEMIO_LUST</th>\n      <th>SEMIO_MAT</th>\n      <th>SEMIO_PFLICHT</th>\n      <th>SEMIO_RAT</th>\n      <th>SEMIO_REL</th>\n      <th>SEMIO_SOZ</th>\n      <th>SEMIO_TRADV</th>\n      <th>SEMIO_VERT</th>\n      <th>SHOPPER_TYP</th>\n      <th>SOHO_KZ</th>\n      <th>STRUKTURTYP</th>\n      <th>TITEL_KZ</th>\n      <th>UMFELD_ALT</th>\n      <th>UMFELD_JUNG</th>\n      <th>UNGLEICHENN_FLAG</th>\n      <th>VERDICHTUNGSRAUM</th>\n      <th>VERS_TYP</th>\n      <th>VHA</th>\n      <th>VHN</th>\n      <th>VK_DHT4A</th>\n      <th>VK_DISTANZ</th>\n      <th>VK_ZG11</th>\n      <th>W_KEIT_KIND_HH</th>\n      <th>WOHNDAUER_2008</th>\n      <th>WOHNLAGE</th>\n      <th>ZABEOTYP</th>\n      <th>ANREDE_KZ</th>\n      <th>ALTERSKATEGORIE_GROB</th>\n    </tr>\n  </thead>\n  <tbody>\n    <tr>\n      <th>0</th>\n      <td>910215</td>\n      <td>NaN</td>\n      <td>NaN</td>\n      <td>NaN</td>\n      <td>NaN</td>\n      <td>NaN</td>\n      <td>NaN</td>\n      <td>NaN</td>\n      <td>NaN</td>\n      <td>NaN</td>\n      <td>NaN</td>\n      <td>NaN</td>\n      <td>NaN</td>\n      <td>NaN</td>\n      <td>NaN</td>\n      <td>NaN</td>\n      <td>NaN</td>\n      <td>NaN</td>\n      <td>NaN</td>\n      <td>NaN</td>\n      <td>2.0</td>\n      <td>5.0</td>\n      <td>1.0</td>\n      <td>1.0</td>\n      <td>5.0</td>\n      <td>5.0</td>\n      <td>5.0</td>\n      <td>5.0</td>\n      <td>NaN</td>\n      <td>NaN</td>\n      <td>10</td>\n      <td>NaN</td>\n      <td>NaN</td>\n      <td>NaN</td>\n      <td>10</td>\n      <td>10</td>\n      <td>NaN</td>\n      <td>NaN</td>\n      <td>NaN</td>\n      <td>NaN</td>\n      <td>NaN</td>\n      <td>NaN</td>\n      <td>NaN</td>\n      <td>NaN</td>\n      <td>NaN</td>\n      <td>NaN</td>\n      <td>NaN</td>\n      <td>NaN</td>\n      <td>NaN</td>\n      <td>NaN</td>\n      <td>10</td>\n      <td>10</td>\n      <td>10</td>\n      <td>NaN</td>\n      <td>NaN</td>\n      <td>NaN</td>\n      <td>NaN</td>\n      <td>NaN</td>\n      <td>9</td>\n      <td>NaN</td>\n      <td>NaN</td>\n      <td>NaN</td>\n      <td>NaN</td>\n      <td>NaN</td>\n      <td>NaN</td>\n      <td>NaN</td>\n      <td>NaN</td>\n      <td>NaN</td>\n      <td>NaN</td>\n      <td>NaN</td>\n      <td>NaN</td>\n      <td>NaN</td>\n      <td>NaN</td>\n      <td>10</td>\n      <td>NaN</td>\n      <td>10</td>\n      <td>10</td>\n      <td>NaN</td>\n      <td>NaN</td>\n      <td>NaN</td>\n      <td>NaN</td>\n      <td>NaN</td>\n      <td>10</td>\n      <td>10</td>\n      <td>10</td>\n      <td>NaN</td>\n      <td>NaN</td>\n      <td>NaN</td>\n      <td>NaN</td>\n      <td>10</td>\n      <td>10</td>\n      <td>10</td>\n      <td>NaN</td>\n      <td>NaN</td>\n      <td>NaN</td>\n      <td>NaN</td>\n      <td>NaN</td>\n      <td>NaN</td>\n      <td>NaN</td>\n      <td>NaN</td>\n      <td>NaN</td>\n      <td>5</td>\n      <td>3</td>\n      <td>3</td>\n      <td>4</td>\n      <td>5</td>\n      <td>3</td>\n      <td>4</td>\n      <td>NaN</td>\n      <td>NaN</td>\n      <td>NaN</td>\n      <td>NaN</td>\n      <td>NaN</td>\n      <td>10.0</td>\n      <td>NaN</td>\n      <td>NaN</td>\n      <td>NaN</td>\n      <td>2.0</td>\n      <td>NaN</td>\n      <td>NaN</td>\n      <td>NaN</td>\n      <td>NaN</td>\n      <td>NaN</td>\n      <td>NaN</td>\n      <td>NaN</td>\n      <td>NaN</td>\n      <td>NaN</td>\n      <td>NaN</td>\n      <td>NaN</td>\n      <td>NaN</td>\n      <td>NaN</td>\n      <td>NaN</td>\n      <td>NaN</td>\n      <td>NaN</td>\n      <td>NaN</td>\n      <td>NaN</td>\n      <td>NaN</td>\n      <td>NaN</td>\n      <td>NaN</td>\n      <td>NaN</td>\n      <td>NaN</td>\n      <td>NaN</td>\n      <td>NaN</td>\n      <td>NaN</td>\n      <td>NaN</td>\n      <td>NaN</td>\n      <td>NaN</td>\n      <td>NaN</td>\n      <td>NaN</td>\n      <td>NaN</td>\n      <td>...</td>\n      <td>NaN</td>\n      <td>NaN</td>\n      <td>NaN</td>\n      <td>NaN</td>\n      <td>NaN</td>\n      <td>NaN</td>\n      <td>NaN</td>\n      <td>NaN</td>\n      <td>NaN</td>\n      <td>NaN</td>\n      <td>NaN</td>\n      <td>NaN</td>\n      <td>NaN</td>\n      <td>NaN</td>\n      <td>NaN</td>\n      <td>NaN</td>\n      <td>NaN</td>\n      <td>NaN</td>\n      <td>NaN</td>\n      <td>NaN</td>\n      <td>NaN</td>\n      <td>NaN</td>\n      <td>NaN</td>\n      <td>NaN</td>\n      <td>NaN</td>\n      <td>NaN</td>\n      <td>NaN</td>\n      <td>NaN</td>\n      <td>NaN</td>\n      <td>NaN</td>\n      <td>NaN</td>\n      <td>NaN</td>\n      <td>NaN</td>\n      <td>NaN</td>\n      <td>NaN</td>\n      <td>NaN</td>\n      <td>NaN</td>\n      <td>NaN</td>\n      <td>NaN</td>\n      <td>NaN</td>\n      <td>NaN</td>\n      <td>NaN</td>\n      <td>NaN</td>\n      <td>NaN</td>\n      <td>NaN</td>\n      <td>NaN</td>\n      <td>NaN</td>\n      <td>NaN</td>\n      <td>NaN</td>\n      <td>NaN</td>\n      <td>NaN</td>\n      <td>NaN</td>\n      <td>NaN</td>\n      <td>NaN</td>\n      <td>NaN</td>\n      <td>NaN</td>\n      <td>NaN</td>\n      <td>NaN</td>\n      <td>NaN</td>\n      <td>NaN</td>\n      <td>NaN</td>\n      <td>NaN</td>\n      <td>NaN</td>\n      <td>NaN</td>\n      <td>NaN</td>\n      <td>NaN</td>\n      <td>NaN</td>\n      <td>NaN</td>\n      <td>NaN</td>\n      <td>NaN</td>\n      <td>NaN</td>\n      <td>NaN</td>\n      <td>NaN</td>\n      <td>NaN</td>\n      <td>NaN</td>\n      <td>NaN</td>\n      <td>NaN</td>\n      <td>NaN</td>\n      <td>NaN</td>\n      <td>NaN</td>\n      <td>NaN</td>\n      <td>NaN</td>\n      <td>NaN</td>\n      <td>NaN</td>\n      <td>NaN</td>\n      <td>NaN</td>\n      <td>9</td>\n      <td>NaN</td>\n      <td>NaN</td>\n      <td>2.0</td>\n      <td>2.0</td>\n      <td>15.0</td>\n      <td>4.0</td>\n      <td>1.0</td>\n      <td>1.0</td>\n      <td>NaN</td>\n      <td>NaN</td>\n      <td>NaN</td>\n      <td>NaN</td>\n      <td>1.0</td>\n      <td>NaN</td>\n      <td>NaN</td>\n      <td>NaN</td>\n      <td>NaN</td>\n      <td>NaN</td>\n      <td>NaN</td>\n      <td>NaN</td>\n      <td>NaN</td>\n      <td>NaN</td>\n      <td>NaN</td>\n      <td>NaN</td>\n      <td>NaN</td>\n      <td>5.0</td>\n      <td>1.0</td>\n      <td>4.0</td>\n      <td>1.0</td>\n      <td>6</td>\n      <td>3</td>\n      <td>6</td>\n      <td>6</td>\n      <td>7</td>\n      <td>3</td>\n      <td>5</td>\n      <td>5</td>\n      <td>5</td>\n      <td>4</td>\n      <td>7</td>\n      <td>2</td>\n      <td>3</td>\n      <td>1</td>\n      <td>NaN</td>\n      <td>NaN</td>\n      <td>NaN</td>\n      <td>NaN</td>\n      <td>NaN</td>\n      <td>NaN</td>\n      <td>NaN</td>\n      <td>NaN</td>\n      <td>NaN</td>\n      <td>NaN</td>\n      <td>NaN</td>\n      <td>NaN</td>\n      <td>NaN</td>\n      <td>NaN</td>\n      <td>NaN</td>\n      <td>NaN</td>\n      <td>NaN</td>\n      <td>3</td>\n      <td>1</td>\n      <td>2</td>\n    </tr>\n    <tr>\n      <th>1</th>\n      <td>910220</td>\n      <td>NaN</td>\n      <td>9.0</td>\n      <td>NaN</td>\n      <td>NaN</td>\n      <td>NaN</td>\n      <td>NaN</td>\n      <td>NaN</td>\n      <td>21.0</td>\n      <td>11.0</td>\n      <td>NaN</td>\n      <td>NaN</td>\n      <td>2.0</td>\n      <td>12.0</td>\n      <td>NaN</td>\n      <td>3.0</td>\n      <td>6.0</td>\n      <td>8A</td>\n      <td>8.0</td>\n      <td>51.0</td>\n      <td>5.0</td>\n      <td>1.0</td>\n      <td>5.0</td>\n      <td>5.0</td>\n      <td>2.0</td>\n      <td>3.0</td>\n      <td>1.0</td>\n      <td>1.0</td>\n      <td>NaN</td>\n      <td>NaN</td>\n      <td>10</td>\n      <td>NaN</td>\n      <td>NaN</td>\n      <td>NaN</td>\n      <td>10</td>\n      <td>10</td>\n      <td>NaN</td>\n      <td>NaN</td>\n      <td>NaN</td>\n      <td>NaN</td>\n      <td>NaN</td>\n      <td>NaN</td>\n      <td>NaN</td>\n      <td>NaN</td>\n      <td>NaN</td>\n      <td>NaN</td>\n      <td>NaN</td>\n      <td>NaN</td>\n      <td>NaN</td>\n      <td>NaN</td>\n      <td>10</td>\n      <td>10</td>\n      <td>10</td>\n      <td>NaN</td>\n      <td>NaN</td>\n      <td>NaN</td>\n      <td>NaN</td>\n      <td>NaN</td>\n      <td>9</td>\n      <td>NaN</td>\n      <td>NaN</td>\n      <td>NaN</td>\n      <td>NaN</td>\n      <td>NaN</td>\n      <td>NaN</td>\n      <td>NaN</td>\n      <td>NaN</td>\n      <td>NaN</td>\n      <td>NaN</td>\n      <td>NaN</td>\n      <td>NaN</td>\n      <td>NaN</td>\n      <td>NaN</td>\n      <td>10</td>\n      <td>NaN</td>\n      <td>10</td>\n      <td>10</td>\n      <td>NaN</td>\n      <td>NaN</td>\n      <td>NaN</td>\n      <td>NaN</td>\n      <td>NaN</td>\n      <td>10</td>\n      <td>10</td>\n      <td>10</td>\n      <td>NaN</td>\n      <td>NaN</td>\n      <td>NaN</td>\n      <td>NaN</td>\n      <td>10</td>\n      <td>10</td>\n      <td>10</td>\n      <td>NaN</td>\n      <td>NaN</td>\n      <td>NaN</td>\n      <td>NaN</td>\n      <td>1.0</td>\n      <td>1992-02-10 00:00:00</td>\n      <td>2004.0</td>\n      <td>3.0</td>\n      <td>NaN</td>\n      <td>5</td>\n      <td>5</td>\n      <td>1</td>\n      <td>5</td>\n      <td>4</td>\n      <td>2</td>\n      <td>1</td>\n      <td>2.0</td>\n      <td>8.0</td>\n      <td>3.0</td>\n      <td>1996.0</td>\n      <td>22.0</td>\n      <td>10.0</td>\n      <td>NaN</td>\n      <td>3.0</td>\n      <td>NaN</td>\n      <td>6.0</td>\n      <td>8.0</td>\n      <td>3.0</td>\n      <td>4.0</td>\n      <td>1.0</td>\n      <td>4.0</td>\n      <td>NaN</td>\n      <td>NaN</td>\n      <td>NaN</td>\n      <td>NaN</td>\n      <td>2.0</td>\n      <td>1.0</td>\n      <td>5.0</td>\n      <td>1.0</td>\n      <td>5.0</td>\n      <td>1.0</td>\n      <td>4.0</td>\n      <td>2.0</td>\n      <td>4.0</td>\n      <td>1.0</td>\n      <td>5.0</td>\n      <td>5.0</td>\n      <td>2.0</td>\n      <td>2.0</td>\n      <td>NaN</td>\n      <td>4.0</td>\n      <td>1.0</td>\n      <td>5.0</td>\n      <td>4.0</td>\n      <td>2.0</td>\n      <td>1.0</td>\n      <td>2.0</td>\n      <td>1.0</td>\n      <td>...</td>\n      <td>2.0</td>\n      <td>3.0</td>\n      <td>4.0</td>\n      <td>2.0</td>\n      <td>4.0</td>\n      <td>3.0</td>\n      <td>3.0</td>\n      <td>3.0</td>\n      <td>3.0</td>\n      <td>3.0</td>\n      <td>2.0</td>\n      <td>2.0</td>\n      <td>3.0</td>\n      <td>3.0</td>\n      <td>3.0</td>\n      <td>4.0</td>\n      <td>1.0</td>\n      <td>4.0</td>\n      <td>4.0</td>\n      <td>4.0</td>\n      <td>2.0</td>\n      <td>3.0</td>\n      <td>5.0</td>\n      <td>3.0</td>\n      <td>1.0</td>\n      <td>3.0</td>\n      <td>3.0</td>\n      <td>2.0</td>\n      <td>4.0</td>\n      <td>3.0</td>\n      <td>3.0</td>\n      <td>1.0</td>\n      <td>2.0</td>\n      <td>4.0</td>\n      <td>3.0</td>\n      <td>3.0</td>\n      <td>2.0</td>\n      <td>2.0</td>\n      <td>2.0</td>\n      <td>1.0</td>\n      <td>3.0</td>\n      <td>4.0</td>\n      <td>4.0</td>\n      <td>3.0</td>\n      <td>1.0</td>\n      <td>2.0</td>\n      <td>4.0</td>\n      <td>NaN</td>\n      <td>3.0</td>\n      <td>1.0</td>\n      <td>2.0</td>\n      <td>3.0</td>\n      <td>2.0</td>\n      <td>4.0</td>\n      <td>3.0</td>\n      <td>2.0</td>\n      <td>3.0</td>\n      <td>4.0</td>\n      <td>3.0</td>\n      <td>2.0</td>\n      <td>3.0</td>\n      <td>2.0</td>\n      <td>2.0</td>\n      <td>5.0</td>\n      <td>4.0</td>\n      <td>2.0</td>\n      <td>3.0</td>\n      <td>3.0</td>\n      <td>3.0</td>\n      <td>2.0</td>\n      <td>3.0</td>\n      <td>3.0</td>\n      <td>4.0</td>\n      <td>2.0</td>\n      <td>3.0</td>\n      <td>3.0</td>\n      <td>4.0</td>\n      <td>2.0</td>\n      <td>3.0</td>\n      <td>3.0</td>\n      <td>3.0</td>\n      <td>3.0</td>\n      <td>3.0</td>\n      <td>4.0</td>\n      <td>NaN</td>\n      <td>2.0</td>\n      <td>1</td>\n      <td>1.0</td>\n      <td>1.0</td>\n      <td>5.0</td>\n      <td>3.0</td>\n      <td>21.0</td>\n      <td>6.0</td>\n      <td>2.0</td>\n      <td>1.0</td>\n      <td>1992.0</td>\n      <td>1.0</td>\n      <td>1.0</td>\n      <td>1.0</td>\n      <td>3.0</td>\n      <td>5.0</td>\n      <td>W</td>\n      <td>2.0</td>\n      <td>3.0</td>\n      <td>2.0</td>\n      <td>1.0</td>\n      <td>1.0</td>\n      <td>4.0</td>\n      <td>5.0</td>\n      <td>14.0</td>\n      <td>3.0</td>\n      <td>4.0</td>\n      <td>1.0</td>\n      <td>5.0</td>\n      <td>3.0</td>\n      <td>5.0</td>\n      <td>7</td>\n      <td>2</td>\n      <td>4</td>\n      <td>4</td>\n      <td>4</td>\n      <td>3</td>\n      <td>2</td>\n      <td>3</td>\n      <td>7</td>\n      <td>6</td>\n      <td>4</td>\n      <td>5</td>\n      <td>6</td>\n      <td>1</td>\n      <td>3.0</td>\n      <td>1.0</td>\n      <td>2.0</td>\n      <td>NaN</td>\n      <td>3.0</td>\n      <td>3.0</td>\n      <td>1.0</td>\n      <td>NaN</td>\n      <td>2.0</td>\n      <td>NaN</td>\n      <td>4.0</td>\n      <td>8.0</td>\n      <td>11.0</td>\n      <td>10.0</td>\n      <td>3.0</td>\n      <td>9.0</td>\n      <td>4.0</td>\n      <td>5</td>\n      <td>2</td>\n      <td>1</td>\n    </tr>\n    <tr>\n      <th>2</th>\n      <td>910225</td>\n      <td>NaN</td>\n      <td>9.0</td>\n      <td>17.0</td>\n      <td>NaN</td>\n      <td>NaN</td>\n      <td>NaN</td>\n      <td>NaN</td>\n      <td>17.0</td>\n      <td>10.0</td>\n      <td>NaN</td>\n      <td>NaN</td>\n      <td>1.0</td>\n      <td>7.0</td>\n      <td>NaN</td>\n      <td>3.0</td>\n      <td>2.0</td>\n      <td>4C</td>\n      <td>4.0</td>\n      <td>24.0</td>\n      <td>3.0</td>\n      <td>2.0</td>\n      <td>4.0</td>\n      <td>4.0</td>\n      <td>1.0</td>\n      <td>3.0</td>\n      <td>2.0</td>\n      <td>2.0</td>\n      <td>NaN</td>\n      <td>NaN</td>\n      <td>10</td>\n      <td>NaN</td>\n      <td>NaN</td>\n      <td>NaN</td>\n      <td>10</td>\n      <td>10</td>\n      <td>NaN</td>\n      <td>NaN</td>\n      <td>NaN</td>\n      <td>NaN</td>\n      <td>6.0</td>\n      <td>NaN</td>\n      <td>NaN</td>\n      <td>NaN</td>\n      <td>NaN</td>\n      <td>NaN</td>\n      <td>NaN</td>\n      <td>NaN</td>\n      <td>NaN</td>\n      <td>NaN</td>\n      <td>10</td>\n      <td>10</td>\n      <td>10</td>\n      <td>NaN</td>\n      <td>NaN</td>\n      <td>NaN</td>\n      <td>NaN</td>\n      <td>9.0</td>\n      <td>8</td>\n      <td>6.0</td>\n      <td>NaN</td>\n      <td>D19_UNBEKANNT</td>\n      <td>NaN</td>\n      <td>NaN</td>\n      <td>NaN</td>\n      <td>NaN</td>\n      <td>NaN</td>\n      <td>NaN</td>\n      <td>6.0</td>\n      <td>NaN</td>\n      <td>6.0</td>\n      <td>NaN</td>\n      <td>NaN</td>\n      <td>10</td>\n      <td>NaN</td>\n      <td>10</td>\n      <td>10</td>\n      <td>NaN</td>\n      <td>NaN</td>\n      <td>NaN</td>\n      <td>NaN</td>\n      <td>NaN</td>\n      <td>10</td>\n      <td>10</td>\n      <td>10</td>\n      <td>NaN</td>\n      <td>NaN</td>\n      <td>NaN</td>\n      <td>NaN</td>\n      <td>10</td>\n      <td>10</td>\n      <td>10</td>\n      <td>NaN</td>\n      <td>NaN</td>\n      <td>7.0</td>\n      <td>NaN</td>\n      <td>1.0</td>\n      <td>1992-02-12 00:00:00</td>\n      <td>2000.0</td>\n      <td>4.0</td>\n      <td>14.0</td>\n      <td>2</td>\n      <td>5</td>\n      <td>1</td>\n      <td>4</td>\n      <td>3</td>\n      <td>1</td>\n      <td>1</td>\n      <td>4.0</td>\n      <td>1.0</td>\n      <td>4.0</td>\n      <td>1979.0</td>\n      <td>22.0</td>\n      <td>10.0</td>\n      <td>1.0</td>\n      <td>3.0</td>\n      <td>NaN</td>\n      <td>4.0</td>\n      <td>4.0</td>\n      <td>2.0</td>\n      <td>3.0</td>\n      <td>3.0</td>\n      <td>3.0</td>\n      <td>NaN</td>\n      <td>1.0</td>\n      <td>3.0</td>\n      <td>1.0</td>\n      <td>NaN</td>\n      <td>3.0</td>\n      <td>NaN</td>\n      <td>5.0</td>\n      <td>2.0</td>\n      <td>3.0</td>\n      <td>NaN</td>\n      <td>NaN</td>\n      <td>3.0</td>\n      <td>3.0</td>\n      <td>2.0</td>\n      <td>2.0</td>\n      <td>3.0</td>\n      <td>2.0</td>\n      <td>5.0</td>\n      <td>4.0</td>\n      <td>3.0</td>\n      <td>3.0</td>\n      <td>2.0</td>\n      <td>3.0</td>\n      <td>3.0</td>\n      <td>2.0</td>\n      <td>2.0</td>\n      <td>...</td>\n      <td>4.0</td>\n      <td>3.0</td>\n      <td>3.0</td>\n      <td>4.0</td>\n      <td>4.0</td>\n      <td>3.0</td>\n      <td>3.0</td>\n      <td>2.0</td>\n      <td>2.0</td>\n      <td>2.0</td>\n      <td>3.0</td>\n      <td>3.0</td>\n      <td>3.0</td>\n      <td>3.0</td>\n      <td>4.0</td>\n      <td>3.0</td>\n      <td>3.0</td>\n      <td>2.0</td>\n      <td>4.0</td>\n      <td>3.0</td>\n      <td>3.0</td>\n      <td>3.0</td>\n      <td>4.0</td>\n      <td>1.0</td>\n      <td>1.0</td>\n      <td>1.0</td>\n      <td>2.0</td>\n      <td>2.0</td>\n      <td>4.0</td>\n      <td>4.0</td>\n      <td>4.0</td>\n      <td>1.0</td>\n      <td>3.0</td>\n      <td>3.0</td>\n      <td>3.0</td>\n      <td>2.0</td>\n      <td>2.0</td>\n      <td>3.0</td>\n      <td>2.0</td>\n      <td>1.0</td>\n      <td>1.0</td>\n      <td>3.0</td>\n      <td>4.0</td>\n      <td>4.0</td>\n      <td>1.0</td>\n      <td>1.0</td>\n      <td>2.0</td>\n      <td>1.0</td>\n      <td>5.0</td>\n      <td>4.0</td>\n      <td>4.0</td>\n      <td>2.0</td>\n      <td>3.0</td>\n      <td>4.0</td>\n      <td>3.0</td>\n      <td>3.0</td>\n      <td>2.0</td>\n      <td>3.0</td>\n      <td>3.0</td>\n      <td>5.0</td>\n      <td>3.0</td>\n      <td>3.0</td>\n      <td>3.0</td>\n      <td>1.0</td>\n      <td>3.0</td>\n      <td>3.0</td>\n      <td>2.0</td>\n      <td>4.0</td>\n      <td>3.0</td>\n      <td>2.0</td>\n      <td>4.0</td>\n      <td>5.0</td>\n      <td>3.0</td>\n      <td>2.0</td>\n      <td>4.0</td>\n      <td>2.0</td>\n      <td>3.0</td>\n      <td>3.0</td>\n      <td>3.0</td>\n      <td>4.0</td>\n      <td>4.0</td>\n      <td>2.0</td>\n      <td>2.0</td>\n      <td>2.0</td>\n      <td>NaN</td>\n      <td>2.0</td>\n      <td>2</td>\n      <td>5.0</td>\n      <td>NaN</td>\n      <td>1.0</td>\n      <td>1.0</td>\n      <td>3.0</td>\n      <td>1.0</td>\n      <td>3.0</td>\n      <td>2.0</td>\n      <td>1992.0</td>\n      <td>2.0</td>\n      <td>3.0</td>\n      <td>1.0</td>\n      <td>2.0</td>\n      <td>5.0</td>\n      <td>W</td>\n      <td>3.0</td>\n      <td>3.0</td>\n      <td>1.0</td>\n      <td>NaN</td>\n      <td>1.0</td>\n      <td>4.0</td>\n      <td>4.0</td>\n      <td>15.0</td>\n      <td>2.0</td>\n      <td>2.0</td>\n      <td>3.0</td>\n      <td>5.0</td>\n      <td>4.0</td>\n      <td>5.0</td>\n      <td>7</td>\n      <td>6</td>\n      <td>1</td>\n      <td>7</td>\n      <td>7</td>\n      <td>3</td>\n      <td>4</td>\n      <td>3</td>\n      <td>3</td>\n      <td>4</td>\n      <td>3</td>\n      <td>4</td>\n      <td>3</td>\n      <td>4</td>\n      <td>2.0</td>\n      <td>NaN</td>\n      <td>3.0</td>\n      <td>NaN</td>\n      <td>2.0</td>\n      <td>5.0</td>\n      <td>NaN</td>\n      <td>1.0</td>\n      <td>1.0</td>\n      <td>NaN</td>\n      <td>2.0</td>\n      <td>9.0</td>\n      <td>9.0</td>\n      <td>6.0</td>\n      <td>3.0</td>\n      <td>9.0</td>\n      <td>2.0</td>\n      <td>5</td>\n      <td>2</td>\n      <td>3</td>\n    </tr>\n    <tr>\n      <th>3</th>\n      <td>910226</td>\n      <td>2.0</td>\n      <td>1.0</td>\n      <td>13.0</td>\n      <td>NaN</td>\n      <td>NaN</td>\n      <td>NaN</td>\n      <td>NaN</td>\n      <td>13.0</td>\n      <td>1.0</td>\n      <td>NaN</td>\n      <td>NaN</td>\n      <td>NaN</td>\n      <td>2.0</td>\n      <td>NaN</td>\n      <td>2.0</td>\n      <td>4.0</td>\n      <td>2A</td>\n      <td>2.0</td>\n      <td>12.0</td>\n      <td>2.0</td>\n      <td>3.0</td>\n      <td>2.0</td>\n      <td>2.0</td>\n      <td>4.0</td>\n      <td>4.0</td>\n      <td>5.0</td>\n      <td>3.0</td>\n      <td>NaN</td>\n      <td>NaN</td>\n      <td>10</td>\n      <td>NaN</td>\n      <td>NaN</td>\n      <td>NaN</td>\n      <td>10</td>\n      <td>10</td>\n      <td>NaN</td>\n      <td>NaN</td>\n      <td>NaN</td>\n      <td>NaN</td>\n      <td>NaN</td>\n      <td>NaN</td>\n      <td>6.0</td>\n      <td>NaN</td>\n      <td>NaN</td>\n      <td>NaN</td>\n      <td>NaN</td>\n      <td>NaN</td>\n      <td>NaN</td>\n      <td>NaN</td>\n      <td>10</td>\n      <td>10</td>\n      <td>10</td>\n      <td>NaN</td>\n      <td>NaN</td>\n      <td>NaN</td>\n      <td>NaN</td>\n      <td>9.0</td>\n      <td>8</td>\n      <td>NaN</td>\n      <td>NaN</td>\n      <td>D19_UNBEKANNT</td>\n      <td>NaN</td>\n      <td>NaN</td>\n      <td>NaN</td>\n      <td>6.0</td>\n      <td>6.0</td>\n      <td>NaN</td>\n      <td>6.0</td>\n      <td>NaN</td>\n      <td>6.0</td>\n      <td>NaN</td>\n      <td>NaN</td>\n      <td>10</td>\n      <td>NaN</td>\n      <td>10</td>\n      <td>10</td>\n      <td>NaN</td>\n      <td>NaN</td>\n      <td>NaN</td>\n      <td>NaN</td>\n      <td>NaN</td>\n      <td>10</td>\n      <td>10</td>\n      <td>10</td>\n      <td>NaN</td>\n      <td>NaN</td>\n      <td>NaN</td>\n      <td>NaN</td>\n      <td>10</td>\n      <td>10</td>\n      <td>10</td>\n      <td>NaN</td>\n      <td>NaN</td>\n      <td>NaN</td>\n      <td>NaN</td>\n      <td>1.0</td>\n      <td>1997-04-21 00:00:00</td>\n      <td>1998.0</td>\n      <td>2.0</td>\n      <td>31.0</td>\n      <td>2</td>\n      <td>2</td>\n      <td>4</td>\n      <td>2</td>\n      <td>1</td>\n      <td>5</td>\n      <td>6</td>\n      <td>4.0</td>\n      <td>1.0</td>\n      <td>4.0</td>\n      <td>1957.0</td>\n      <td>40.0</td>\n      <td>1.0</td>\n      <td>NaN</td>\n      <td>2.0</td>\n      <td>NaN</td>\n      <td>1.0</td>\n      <td>6.0</td>\n      <td>2.0</td>\n      <td>5.0</td>\n      <td>3.0</td>\n      <td>NaN</td>\n      <td>1.0</td>\n      <td>4.0</td>\n      <td>1.0</td>\n      <td>NaN</td>\n      <td>NaN</td>\n      <td>4.0</td>\n      <td>1.0</td>\n      <td>2.0</td>\n      <td>3.0</td>\n      <td>5.0</td>\n      <td>1.0</td>\n      <td>3.0</td>\n      <td>4.0</td>\n      <td>4.0</td>\n      <td>4.0</td>\n      <td>3.0</td>\n      <td>3.0</td>\n      <td>2.0</td>\n      <td>3.0</td>\n      <td>3.0</td>\n      <td>4.0</td>\n      <td>4.0</td>\n      <td>2.0</td>\n      <td>3.0</td>\n      <td>1.0</td>\n      <td>2.0</td>\n      <td>2.0</td>\n      <td>...</td>\n      <td>3.0</td>\n      <td>2.0</td>\n      <td>3.0</td>\n      <td>3.0</td>\n      <td>4.0</td>\n      <td>2.0</td>\n      <td>2.0</td>\n      <td>2.0</td>\n      <td>3.0</td>\n      <td>3.0</td>\n      <td>3.0</td>\n      <td>5.0</td>\n      <td>5.0</td>\n      <td>4.0</td>\n      <td>3.0</td>\n      <td>2.0</td>\n      <td>3.0</td>\n      <td>4.0</td>\n      <td>3.0</td>\n      <td>2.0</td>\n      <td>2.0</td>\n      <td>2.0</td>\n      <td>3.0</td>\n      <td>5.0</td>\n      <td>1.0</td>\n      <td>5.0</td>\n      <td>1.0</td>\n      <td>2.0</td>\n      <td>2.0</td>\n      <td>5.0</td>\n      <td>5.0</td>\n      <td>1.0</td>\n      <td>3.0</td>\n      <td>4.0</td>\n      <td>4.0</td>\n      <td>2.0</td>\n      <td>2.0</td>\n      <td>2.0</td>\n      <td>2.0</td>\n      <td>2.0</td>\n      <td>3.0</td>\n      <td>1.0</td>\n      <td>3.0</td>\n      <td>5.0</td>\n      <td>1.0</td>\n      <td>4.0</td>\n      <td>3.0</td>\n      <td>2.0</td>\n      <td>2.0</td>\n      <td>3.0</td>\n      <td>2.0</td>\n      <td>3.0</td>\n      <td>2.0</td>\n      <td>3.0</td>\n      <td>3.0</td>\n      <td>5.0</td>\n      <td>2.0</td>\n      <td>3.0</td>\n      <td>2.0</td>\n      <td>3.0</td>\n      <td>4.0</td>\n      <td>3.0</td>\n      <td>3.0</td>\n      <td>4.0</td>\n      <td>4.0</td>\n      <td>3.0</td>\n      <td>4.0</td>\n      <td>3.0</td>\n      <td>1.0</td>\n      <td>2.0</td>\n      <td>3.0</td>\n      <td>2.0</td>\n      <td>4.0</td>\n      <td>2.0</td>\n      <td>3.0</td>\n      <td>3.0</td>\n      <td>3.0</td>\n      <td>3.0</td>\n      <td>4.0</td>\n      <td>3.0</td>\n      <td>2.0</td>\n      <td>3.0</td>\n      <td>2.0</td>\n      <td>4.0</td>\n      <td>NaN</td>\n      <td>NaN</td>\n      <td>4</td>\n      <td>4.0</td>\n      <td>NaN</td>\n      <td>NaN</td>\n      <td>NaN</td>\n      <td>NaN</td>\n      <td>NaN</td>\n      <td>9.0</td>\n      <td>4.0</td>\n      <td>1997.0</td>\n      <td>4.0</td>\n      <td>4.0</td>\n      <td>1.0</td>\n      <td>1.0</td>\n      <td>3.0</td>\n      <td>W</td>\n      <td>2.0</td>\n      <td>2.0</td>\n      <td>2.0</td>\n      <td>NaN</td>\n      <td>1.0</td>\n      <td>4.0</td>\n      <td>3.0</td>\n      <td>8.0</td>\n      <td>NaN</td>\n      <td>3.0</td>\n      <td>2.0</td>\n      <td>3.0</td>\n      <td>2.0</td>\n      <td>3.0</td>\n      <td>4</td>\n      <td>7</td>\n      <td>1</td>\n      <td>5</td>\n      <td>4</td>\n      <td>4</td>\n      <td>4</td>\n      <td>1</td>\n      <td>4</td>\n      <td>3</td>\n      <td>2</td>\n      <td>5</td>\n      <td>4</td>\n      <td>4</td>\n      <td>1.0</td>\n      <td>NaN</td>\n      <td>1.0</td>\n      <td>NaN</td>\n      <td>4.0</td>\n      <td>5.0</td>\n      <td>NaN</td>\n      <td>NaN</td>\n      <td>1.0</td>\n      <td>1.0</td>\n      <td>NaN</td>\n      <td>7.0</td>\n      <td>10.0</td>\n      <td>11.0</td>\n      <td>NaN</td>\n      <td>9.0</td>\n      <td>7.0</td>\n      <td>3</td>\n      <td>2</td>\n      <td>4</td>\n    </tr>\n    <tr>\n      <th>4</th>\n      <td>910241</td>\n      <td>NaN</td>\n      <td>1.0</td>\n      <td>20.0</td>\n      <td>NaN</td>\n      <td>NaN</td>\n      <td>NaN</td>\n      <td>NaN</td>\n      <td>14.0</td>\n      <td>3.0</td>\n      <td>NaN</td>\n      <td>NaN</td>\n      <td>4.0</td>\n      <td>3.0</td>\n      <td>NaN</td>\n      <td>4.0</td>\n      <td>2.0</td>\n      <td>6B</td>\n      <td>6.0</td>\n      <td>43.0</td>\n      <td>5.0</td>\n      <td>3.0</td>\n      <td>3.0</td>\n      <td>3.0</td>\n      <td>3.0</td>\n      <td>4.0</td>\n      <td>3.0</td>\n      <td>3.0</td>\n      <td>3.0</td>\n      <td>5.0</td>\n      <td>5</td>\n      <td>1.0</td>\n      <td>2.0</td>\n      <td>NaN</td>\n      <td>10</td>\n      <td>5</td>\n      <td>10.0</td>\n      <td>6.0</td>\n      <td>6.0</td>\n      <td>1.0</td>\n      <td>6.0</td>\n      <td>NaN</td>\n      <td>6.0</td>\n      <td>NaN</td>\n      <td>1.0</td>\n      <td>5.0</td>\n      <td>NaN</td>\n      <td>NaN</td>\n      <td>6.0</td>\n      <td>6.0</td>\n      <td>1</td>\n      <td>6</td>\n      <td>1</td>\n      <td>10.0</td>\n      <td>NaN</td>\n      <td>5.0</td>\n      <td>NaN</td>\n      <td>1.0</td>\n      <td>1</td>\n      <td>NaN</td>\n      <td>NaN</td>\n      <td>D19_SCHUHE</td>\n      <td>NaN</td>\n      <td>NaN</td>\n      <td>NaN</td>\n      <td>NaN</td>\n      <td>NaN</td>\n      <td>1.0</td>\n      <td>4.0</td>\n      <td>NaN</td>\n      <td>5.0</td>\n      <td>NaN</td>\n      <td>1.0</td>\n      <td>6</td>\n      <td>6.0</td>\n      <td>8</td>\n      <td>10</td>\n      <td>NaN</td>\n      <td>5.0</td>\n      <td>NaN</td>\n      <td>6.0</td>\n      <td>6.0</td>\n      <td>1</td>\n      <td>9</td>\n      <td>1</td>\n      <td>10.0</td>\n      <td>2.0</td>\n      <td>1.0</td>\n      <td>3.0</td>\n      <td>2</td>\n      <td>7</td>\n      <td>10</td>\n      <td>NaN</td>\n      <td>3.0</td>\n      <td>NaN</td>\n      <td>NaN</td>\n      <td>1.0</td>\n      <td>1992-02-12 00:00:00</td>\n      <td>2004.0</td>\n      <td>5.0</td>\n      <td>NaN</td>\n      <td>1</td>\n      <td>2</td>\n      <td>4</td>\n      <td>3</td>\n      <td>3</td>\n      <td>4</td>\n      <td>5</td>\n      <td>5.0</td>\n      <td>1.0</td>\n      <td>5.0</td>\n      <td>1963.0</td>\n      <td>21.0</td>\n      <td>5.0</td>\n      <td>NaN</td>\n      <td>3.0</td>\n      <td>NaN</td>\n      <td>5.0</td>\n      <td>1.0</td>\n      <td>NaN</td>\n      <td>4.0</td>\n      <td>4.0</td>\n      <td>3.0</td>\n      <td>NaN</td>\n      <td>1.0</td>\n      <td>4.0</td>\n      <td>1.0</td>\n      <td>NaN</td>\n      <td>3.0</td>\n      <td>NaN</td>\n      <td>4.0</td>\n      <td>1.0</td>\n      <td>4.0</td>\n      <td>2.0</td>\n      <td>1.0</td>\n      <td>5.0</td>\n      <td>3.0</td>\n      <td>2.0</td>\n      <td>2.0</td>\n      <td>4.0</td>\n      <td>1.0</td>\n      <td>4.0</td>\n      <td>3.0</td>\n      <td>3.0</td>\n      <td>3.0</td>\n      <td>3.0</td>\n      <td>3.0</td>\n      <td>2.0</td>\n      <td>2.0</td>\n      <td>3.0</td>\n      <td>...</td>\n      <td>3.0</td>\n      <td>2.0</td>\n      <td>3.0</td>\n      <td>4.0</td>\n      <td>3.0</td>\n      <td>3.0</td>\n      <td>3.0</td>\n      <td>3.0</td>\n      <td>3.0</td>\n      <td>3.0</td>\n      <td>3.0</td>\n      <td>4.0</td>\n      <td>4.0</td>\n      <td>2.0</td>\n      <td>3.0</td>\n      <td>3.0</td>\n      <td>3.0</td>\n      <td>4.0</td>\n      <td>3.0</td>\n      <td>4.0</td>\n      <td>3.0</td>\n      <td>2.0</td>\n      <td>3.0</td>\n      <td>5.0</td>\n      <td>1.0</td>\n      <td>5.0</td>\n      <td>1.0</td>\n      <td>1.0</td>\n      <td>3.0</td>\n      <td>5.0</td>\n      <td>5.0</td>\n      <td>1.0</td>\n      <td>3.0</td>\n      <td>4.0</td>\n      <td>3.0</td>\n      <td>2.0</td>\n      <td>2.0</td>\n      <td>2.0</td>\n      <td>1.0</td>\n      <td>3.0</td>\n      <td>3.0</td>\n      <td>3.0</td>\n      <td>1.0</td>\n      <td>5.0</td>\n      <td>1.0</td>\n      <td>5.0</td>\n      <td>3.0</td>\n      <td>NaN</td>\n      <td>2.0</td>\n      <td>2.0</td>\n      <td>1.0</td>\n      <td>3.0</td>\n      <td>3.0</td>\n      <td>3.0</td>\n      <td>4.0</td>\n      <td>4.0</td>\n      <td>3.0</td>\n      <td>3.0</td>\n      <td>4.0</td>\n      <td>3.0</td>\n      <td>3.0</td>\n      <td>3.0</td>\n      <td>3.0</td>\n      <td>3.0</td>\n      <td>2.0</td>\n      <td>3.0</td>\n      <td>2.0</td>\n      <td>4.0</td>\n      <td>4.0</td>\n      <td>5.0</td>\n      <td>4.0</td>\n      <td>2.0</td>\n      <td>2.0</td>\n      <td>5.0</td>\n      <td>3.0</td>\n      <td>3.0</td>\n      <td>3.0</td>\n      <td>3.0</td>\n      <td>4.0</td>\n      <td>2.0</td>\n      <td>2.0</td>\n      <td>3.0</td>\n      <td>4.0</td>\n      <td>3.0</td>\n      <td>1.0</td>\n      <td>3.0</td>\n      <td>3</td>\n      <td>4.0</td>\n      <td>NaN</td>\n      <td>10.0</td>\n      <td>5.0</td>\n      <td>32.0</td>\n      <td>10.0</td>\n      <td>3.0</td>\n      <td>2.0</td>\n      <td>1992.0</td>\n      <td>1.0</td>\n      <td>3.0</td>\n      <td>1.0</td>\n      <td>5.0</td>\n      <td>6.0</td>\n      <td>W</td>\n      <td>2.0</td>\n      <td>4.0</td>\n      <td>2.0</td>\n      <td>1.0</td>\n      <td>2.0</td>\n      <td>3.0</td>\n      <td>3.0</td>\n      <td>8.0</td>\n      <td>5.0</td>\n      <td>5.0</td>\n      <td>5.0</td>\n      <td>3.0</td>\n      <td>5.0</td>\n      <td>5.0</td>\n      <td>2</td>\n      <td>4</td>\n      <td>4</td>\n      <td>2</td>\n      <td>3</td>\n      <td>6</td>\n      <td>4</td>\n      <td>2</td>\n      <td>4</td>\n      <td>2</td>\n      <td>4</td>\n      <td>6</td>\n      <td>2</td>\n      <td>7</td>\n      <td>2.0</td>\n      <td>NaN</td>\n      <td>3.0</td>\n      <td>NaN</td>\n      <td>4.0</td>\n      <td>3.0</td>\n      <td>NaN</td>\n      <td>1.0</td>\n      <td>2.0</td>\n      <td>NaN</td>\n      <td>2.0</td>\n      <td>3.0</td>\n      <td>5.0</td>\n      <td>4.0</td>\n      <td>2.0</td>\n      <td>9.0</td>\n      <td>3.0</td>\n      <td>4</td>\n      <td>1</td>\n      <td>3</td>\n    </tr>\n  </tbody>\n</table>\n<p>5 rows x 366 columns</p>\n</div>"
     },
     "execution_count": 16,
     "metadata": {},
     "output_type": "execute_result"
    }
   ],
   "source": [
    "azdias_df.head()"
   ],
   "metadata": {
    "collapsed": false,
    "pycharm": {
     "name": "#%%\n"
    }
   }
  },
  {
   "cell_type": "code",
   "execution_count": null,
   "outputs": [],
   "source": [
    "## Working on missing data by row\n",
    "missing_data_by_row = azdias.isnull().sum(axis=1)\n",
    "missing_data_by_row.describe()"
   ],
   "metadata": {
    "collapsed": false,
    "pycharm": {
     "name": "#%%\n"
    }
   }
  },
  {
   "cell_type": "code",
   "execution_count": null,
   "outputs": [],
   "source": [
    "#Finding number of row with max missing data\n",
    "missing_data_by_row[missing_data_by_row == 45]\n"
   ],
   "metadata": {
    "collapsed": false,
    "pycharm": {
     "name": "#%%\n"
    }
   }
  },
  {
   "cell_type": "markdown",
   "source": [
    "## Lets make some feature engineer, for that we create feature_engineer.py"
   ],
   "metadata": {
    "collapsed": false,
    "pycharm": {
     "name": "#%% md\n"
    }
   }
  },
  {
   "cell_type": "code",
   "execution_count": null,
   "outputs": [],
   "source": [
    "from process_and_ml import (fs_generation, fs_new_cols,\n",
    "                            standardize_binary_columns, correlated_columns_to_drop)\n"
   ],
   "metadata": {
    "collapsed": false,
    "pycharm": {
     "name": "#%%\n"
    }
   }
  },
  {
   "cell_type": "code",
   "execution_count": null,
   "outputs": [],
   "source": [
    "azdias_df = fs_new_cols(dfs_dict['azdias'])\n"
   ],
   "metadata": {
    "collapsed": false,
    "pycharm": {
     "name": "#%%\n"
    }
   }
  },
  {
   "cell_type": "code",
   "execution_count": null,
   "outputs": [],
   "source": [
    "azdias_df = fs_generation(azdias_df)\n"
   ],
   "metadata": {
    "collapsed": false,
    "pycharm": {
     "name": "#%%\n"
    }
   }
  },
  {
   "cell_type": "code",
   "execution_count": null,
   "outputs": [],
   "source": [
    "azdias_df = standardize_binary_columns(azdias_df)"
   ],
   "metadata": {
    "collapsed": false,
    "pycharm": {
     "name": "#%%\n"
    }
   }
  },
  {
   "cell_type": "code",
   "execution_count": null,
   "outputs": [],
   "source": [
    "azdias_df = correlated_columns_to_drop(azdias_df)"
   ],
   "metadata": {
    "collapsed": false,
    "pycharm": {
     "name": "#%%\n"
    }
   }
  },
  {
   "cell_type": "code",
   "execution_count": null,
   "outputs": [],
   "source": [
    "#Checking Binary and categorical features\n",
    "categorical_binary = []\n",
    "categorical_multi = []\n",
    "for feature in azdias.columns:\n",
    "    if azdias[feature].nunique() > 2:\n",
    "        categorical_multi.append(feature)\n",
    "    else:\n",
    "        categorical_binary.append(feature)\n"
   ],
   "metadata": {
    "collapsed": false,
    "pycharm": {
     "name": "#%%\n"
    }
   }
  },
  {
   "cell_type": "code",
   "execution_count": null,
   "outputs": [],
   "source": [
    "# One-hot-encoding and remove reference columns\n",
    "azdias_df = pd.get_dummies(azdias, columns=categorical_multi)\n"
   ],
   "metadata": {
    "collapsed": false,
    "pycharm": {
     "name": "#%%\n"
    }
   }
  },
  {
   "cell_type": "markdown",
   "source": [
    "## Appling PCA\n"
   ],
   "metadata": {
    "collapsed": false,
    "pycharm": {
     "name": "#%% md\n"
    }
   }
  },
  {
   "cell_type": "code",
   "execution_count": 18,
   "outputs": [],
   "source": [
    "from sklearn.decomposition import PCA\n"
   ],
   "metadata": {
    "collapsed": false,
    "pycharm": {
     "name": "#%%\n"
    }
   }
  },
  {
   "cell_type": "code",
   "execution_count": null,
   "outputs": [],
   "source": [
    "pca = PCA()\n",
    "azdias_pca = pca.fit_transform(dfs_dict['azdias'])\n"
   ],
   "metadata": {
    "collapsed": false,
    "pycharm": {
     "name": "#%%\n",
     "is_executing": true
    }
   }
  },
  {
   "cell_type": "code",
   "execution_count": null,
   "outputs": [],
   "source": [],
   "metadata": {
    "collapsed": false,
    "pycharm": {
     "name": "#%%\n"
    }
   }
  }
 ],
 "metadata": {
  "kernelspec": {
   "display_name": "Python 3",
   "language": "python",
   "name": "python3"
  },
  "language_info": {
   "codemirror_mode": {
    "name": "ipython",
    "version": 2
   },
   "file_extension": ".py",
   "mimetype": "text/x-python",
   "name": "python",
   "nbconvert_exporter": "python",
   "pygments_lexer": "ipython2",
   "version": "2.7.6"
  }
 },
 "nbformat": 4,
 "nbformat_minor": 0
}